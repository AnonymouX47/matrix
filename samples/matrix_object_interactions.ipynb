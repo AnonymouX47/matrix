{
 "cells": [
  {
   "cell_type": "markdown",
   "id": "expanded-sucking",
   "metadata": {},
   "source": [
    "# Object Interactions"
   ]
  },
  {
   "cell_type": "code",
   "execution_count": 1,
   "id": "hollywood-force",
   "metadata": {},
   "outputs": [],
   "source": [
    "from matrix import *"
   ]
  },
  {
   "cell_type": "markdown",
   "id": "extraordinary-building",
   "metadata": {},
   "source": [
    "## Intelligent string representation"
   ]
  },
  {
   "cell_type": "code",
   "execution_count": 2,
   "id": "personal-trinidad",
   "metadata": {},
   "outputs": [
    {
     "data": {
      "text/plain": [
       "'―――――――――――――――――\\n| 1 | 4 | 5 | 2 |\\n―――――――――――――――――\\n| 2 | 4 | 3 | 6 |\\n―――――――――――――――――\\n| 9 | 9 | 7 | 0 |\\n―――――――――――――――――\\n| 7 | 5 | 5 | 3 |\\n―――――――――――――――――'"
      ]
     },
     "execution_count": 2,
     "metadata": {},
     "output_type": "execute_result"
    }
   ],
   "source": [
    "m = randint_matrix(4, 4, range(0, 10))\n",
    "str(m)"
   ]
  },
  {
   "cell_type": "code",
   "execution_count": 3,
   "id": "technical-thirty",
   "metadata": {},
   "outputs": [
    {
     "name": "stdout",
     "output_type": "stream",
     "text": [
      "―――――――――――――――――\n",
      "| 1 | 4 | 5 | 2 |\n",
      "―――――――――――――――――\n",
      "| 2 | 4 | 3 | 6 |\n",
      "―――――――――――――――――\n",
      "| 9 | 9 | 7 | 0 |\n",
      "―――――――――――――――――\n",
      "| 7 | 5 | 5 | 3 |\n",
      "―――――――――――――――――\n"
     ]
    }
   ],
   "source": [
    "print(m)"
   ]
  },
  {
   "cell_type": "code",
   "execution_count": 4,
   "id": "extreme-collector",
   "metadata": {},
   "outputs": [
    {
     "name": "stdout",
     "output_type": "stream",
     "text": [
      "―――――――――――――――――――――――――――\n",
      "| 3000 |    1     |  -10  |\n",
      "―――――――――――――――――――――――――――\n",
      "|  33  | 4.34e+04 |  478  |\n",
      "―――――――――――――――――――――――――――\n",
      "|  2   |   5000   | -1000 |\n",
      "―――――――――――――――――――――――――――\n"
     ]
    }
   ],
   "source": [
    "# The element with the longest string representation in a column determines that column's width.\n",
    "print(Matrix([[3000, 1, -10], [33, 43400, 478], [2, 5000, -1000]]))"
   ]
  },
  {
   "cell_type": "code",
   "execution_count": 5,
   "id": "brave-martial",
   "metadata": {},
   "outputs": [
    {
     "name": "stdout",
     "output_type": "stream",
     "text": [
      "140603955574880\n",
      "―――――――――――――――――――――\n",
      "| 54 | 2  | 49 | 51 |\n",
      "―――――――――――――――――――――\n",
      "| 48 | 50 | 48 | 40 |\n",
      "―――――――――――――――――――――\n",
      "| 80 | 79 | 60 | 99 |\n",
      "―――――――――――――――――――――\n",
      "| 29 | 81 | 86 | 55 |\n",
      "―――――――――――――――――――――\n",
      "140603955574880\n",
      "―――――――――――――――――――――――――――――――――――――――――――――――――\n",
      "|   8411    |   8210    | 1.007e+04 | 1.049e+04 |\n",
      "―――――――――――――――――――――――――――――――――――――――――――――――――\n",
      "|   9992    |   9628    | 1.107e+04 | 1.14e+04  |\n",
      "―――――――――――――――――――――――――――――――――――――――――――――――――\n",
      "| 1.578e+04 | 1.687e+04 | 1.983e+04 | 1.862e+04 |\n",
      "―――――――――――――――――――――――――――――――――――――――――――――――――\n",
      "| 1.393e+04 | 1.536e+04 | 1.52e+04  | 1.626e+04 |\n",
      "―――――――――――――――――――――――――――――――――――――――――――――――――\n",
      "140603955574880\n",
      "―――――――――――――――――――――――――――――――――――――――――――――――――\n",
      "| 1.578e+04 | 1.687e+04 | 1.983e+04 | 1.862e+04 |\n",
      "―――――――――――――――――――――――――――――――――――――――――――――――――\n",
      "| 1.393e+04 | 1.536e+04 | 1.52e+04  | 1.626e+04 |\n",
      "―――――――――――――――――――――――――――――――――――――――――――――――――\n"
     ]
    }
   ],
   "source": [
    "# The matrix object remains the same but its string representation\n",
    "# dynamically adjusts to whatever its contents are.\n",
    "m = randint_matrix(4, 4, range(0, 100))\n",
    "print(id(m))\n",
    "print(m)\n",
    "m @= m  ## In-place matrix multiplication\n",
    "print(id(m))\n",
    "print(m)\n",
    "del m.rows[:2] # deletes first two rows\n",
    "print(id(m))\n",
    "print(m)"
   ]
  },
  {
   "cell_type": "markdown",
   "id": "popular-blade",
   "metadata": {},
   "source": [
    "## Subscription"
   ]
  },
  {
   "cell_type": "code",
   "execution_count": 6,
   "id": "vocal-community",
   "metadata": {},
   "outputs": [
    {
     "name": "stdout",
     "output_type": "stream",
     "text": [
      "―――――――――――――――――――――\n",
      "| 97 | 50 | 66 | 24 |\n",
      "―――――――――――――――――――――\n",
      "| 69 | 91 | 6  | 32 |\n",
      "―――――――――――――――――――――\n",
      "| 89 | 40 | 4  | 81 |\n",
      "―――――――――――――――――――――\n",
      "| 54 | 16 | 4  | 82 |\n",
      "―――――――――――――――――――――\n"
     ]
    }
   ],
   "source": [
    "m = randint_matrix(4, 4, range(0, 100))\n",
    "print(m)"
   ]
  },
  {
   "cell_type": "code",
   "execution_count": 7,
   "id": "molecular-setting",
   "metadata": {},
   "outputs": [
    {
     "name": "stdout",
     "output_type": "stream",
     "text": [
      "97 6 82\n"
     ]
    },
    {
     "data": {
      "text/plain": [
       "Element('97')"
      ]
     },
     "execution_count": 7,
     "metadata": {},
     "output_type": "execute_result"
    }
   ],
   "source": [
    "# Single-element indexing\n",
    "print(m[1, 1], m[2, 3], m[4, 4])\n",
    "m[1, 1]"
   ]
  },
  {
   "cell_type": "code",
   "execution_count": 8,
   "id": "intense-yield",
   "metadata": {
    "scrolled": true
   },
   "outputs": [
    {
     "ename": "IndexError",
     "evalue": "Row and/or Column index is/are out of range.",
     "output_type": "error",
     "traceback": [
      "\u001b[0;31m---------------------------------------------------------------------------\u001b[0m",
      "\u001b[0;31mIndexError\u001b[0m                                Traceback (most recent call last)",
      "\u001b[0;32m<ipython-input-8-51ab94680c92>\u001b[0m in \u001b[0;36m<module>\u001b[0;34m\u001b[0m\n\u001b[0;32m----> 1\u001b[0;31m \u001b[0mprint\u001b[0m\u001b[0;34m(\u001b[0m\u001b[0mm\u001b[0m\u001b[0;34m[\u001b[0m\u001b[0;36m0\u001b[0m\u001b[0;34m,\u001b[0m \u001b[0;36m5\u001b[0m\u001b[0;34m]\u001b[0m\u001b[0;34m)\u001b[0m\u001b[0;34m\u001b[0m\u001b[0;34m\u001b[0m\u001b[0m\n\u001b[0m",
      "\u001b[0;32m~/My_Works/projects/matrix/matrix/matrix.py\u001b[0m in \u001b[0;36m__getitem__\u001b[0;34m(self, sub)\u001b[0m\n\u001b[1;32m    132\u001b[0m                     \u001b[0;32mreturn\u001b[0m \u001b[0mself\u001b[0m\u001b[0;34m.\u001b[0m\u001b[0m__array\u001b[0m\u001b[0;34m[\u001b[0m\u001b[0mrow\u001b[0m \u001b[0;34m-\u001b[0m \u001b[0;36m1\u001b[0m\u001b[0;34m]\u001b[0m\u001b[0;34m[\u001b[0m\u001b[0mcol\u001b[0m \u001b[0;34m-\u001b[0m \u001b[0;36m1\u001b[0m\u001b[0;34m]\u001b[0m\u001b[0;34m\u001b[0m\u001b[0;34m\u001b[0m\u001b[0m\n\u001b[1;32m    133\u001b[0m                 \u001b[0;32melse\u001b[0m\u001b[0;34m:\u001b[0m\u001b[0;34m\u001b[0m\u001b[0;34m\u001b[0m\u001b[0m\n\u001b[0;32m--> 134\u001b[0;31m                     \u001b[0;32mraise\u001b[0m \u001b[0mIndexError\u001b[0m\u001b[0;34m(\u001b[0m\u001b[0;34m\"Row and/or Column index is/are out of range.\"\u001b[0m\u001b[0;34m)\u001b[0m\u001b[0;34m\u001b[0m\u001b[0;34m\u001b[0m\u001b[0m\n\u001b[0m\u001b[1;32m    135\u001b[0m \u001b[0;34m\u001b[0m\u001b[0m\n\u001b[1;32m    136\u001b[0m             \u001b[0;32melif\u001b[0m \u001b[0mall\u001b[0m\u001b[0;34m(\u001b[0m\u001b[0misinstance\u001b[0m\u001b[0;34m(\u001b[0m\u001b[0mx\u001b[0m\u001b[0;34m,\u001b[0m \u001b[0mslice\u001b[0m\u001b[0;34m)\u001b[0m \u001b[0;32mfor\u001b[0m \u001b[0mx\u001b[0m \u001b[0;32min\u001b[0m \u001b[0msub\u001b[0m\u001b[0;34m)\u001b[0m\u001b[0;34m:\u001b[0m\u001b[0;34m\u001b[0m\u001b[0;34m\u001b[0m\u001b[0m\n",
      "\u001b[0;31mIndexError\u001b[0m: Row and/or Column index is/are out of range."
     ]
    }
   ],
   "source": [
    "print(m[0, 5])"
   ]
  },
  {
   "cell_type": "code",
   "execution_count": 9,
   "id": "adaptive-theater",
   "metadata": {
    "scrolled": false
   },
   "outputs": [
    {
     "name": "stdout",
     "output_type": "stream",
     "text": [
      "――――――――――――――――\n",
      "| 50 | 66 | 24 |\n",
      "――――――――――――――――\n",
      "| 91 | 6  | 32 |\n",
      "――――――――――――――――\n",
      "―――――――――――――――――――――\n",
      "| 97 | 50 | 66 | 24 |\n",
      "―――――――――――――――――――――\n",
      "| 69 | 91 | 6  | 32 |\n",
      "―――――――――――――――――――――\n",
      "| 89 | 40 | 4  | 81 |\n",
      "―――――――――――――――――――――\n",
      "| 54 | 16 | 4  | 82 |\n",
      "―――――――――――――――――――――\n",
      "―――――――――――\n",
      "| 97 | 66 |\n",
      "―――――――――――\n",
      "| 89 | 4  |\n",
      "―――――――――――\n"
     ]
    },
    {
     "data": {
      "text/plain": [
       "<2x3 Matrix at 0x7fe0e8d37d60>"
      ]
     },
     "execution_count": 9,
     "metadata": {},
     "output_type": "execute_result"
    }
   ],
   "source": [
    "# Block-slicing. Always includes the 'stop' index\n",
    "print(m[1:2, 2:4])  # Rows 1-2, Columns 2-4.\n",
    "print(m[:, :])  # A copy of the matrix\n",
    "print(m[::2, ::2])  # Steps are supported\n",
    "m[1:2, 2:4]"
   ]
  },
  {
   "cell_type": "code",
   "execution_count": 10,
   "id": "behavioral-classification",
   "metadata": {},
   "outputs": [
    {
     "ename": "ValueError",
     "evalue": "'-1:0' -> 'start', 'stop' or 'step' is less than 1.",
     "output_type": "error",
     "traceback": [
      "\u001b[0;31m---------------------------------------------------------------------------\u001b[0m",
      "\u001b[0;31mValueError\u001b[0m                                Traceback (most recent call last)",
      "\u001b[0;32m<ipython-input-10-ee0e4d3f6bc6>\u001b[0m in \u001b[0;36m<module>\u001b[0;34m\u001b[0m\n\u001b[1;32m      1\u001b[0m \u001b[0;31m# Indices less than 1 are not allowed.\u001b[0m\u001b[0;34m\u001b[0m\u001b[0;34m\u001b[0m\u001b[0;34m\u001b[0m\u001b[0m\n\u001b[0;32m----> 2\u001b[0;31m \u001b[0mm\u001b[0m\u001b[0;34m[\u001b[0m\u001b[0;34m-\u001b[0m\u001b[0;36m1\u001b[0m\u001b[0;34m:\u001b[0m\u001b[0;36m0\u001b[0m\u001b[0;34m,\u001b[0m \u001b[0;36m1\u001b[0m\u001b[0;34m:\u001b[0m\u001b[0;36m3\u001b[0m\u001b[0;34m]\u001b[0m\u001b[0;34m\u001b[0m\u001b[0;34m\u001b[0m\u001b[0m\n\u001b[0m",
      "\u001b[0;32m~/My_Works/projects/matrix/matrix/matrix.py\u001b[0m in \u001b[0;36m__getitem__\u001b[0;34m(self, sub)\u001b[0m\n\u001b[1;32m    135\u001b[0m \u001b[0;34m\u001b[0m\u001b[0m\n\u001b[1;32m    136\u001b[0m             \u001b[0;32melif\u001b[0m \u001b[0mall\u001b[0m\u001b[0;34m(\u001b[0m\u001b[0misinstance\u001b[0m\u001b[0;34m(\u001b[0m\u001b[0mx\u001b[0m\u001b[0;34m,\u001b[0m \u001b[0mslice\u001b[0m\u001b[0;34m)\u001b[0m \u001b[0;32mfor\u001b[0m \u001b[0mx\u001b[0m \u001b[0;32min\u001b[0m \u001b[0msub\u001b[0m\u001b[0;34m)\u001b[0m\u001b[0;34m:\u001b[0m\u001b[0;34m\u001b[0m\u001b[0;34m\u001b[0m\u001b[0m\n\u001b[0;32m--> 137\u001b[0;31m                 \u001b[0mrow_slice\u001b[0m\u001b[0;34m,\u001b[0m \u001b[0mcol_slice\u001b[0m \u001b[0;34m=\u001b[0m \u001b[0mmap\u001b[0m\u001b[0;34m(\u001b[0m\u001b[0madjust_slice\u001b[0m\u001b[0;34m,\u001b[0m \u001b[0msub\u001b[0m\u001b[0;34m,\u001b[0m \u001b[0mself\u001b[0m\u001b[0;34m.\u001b[0m\u001b[0msize\u001b[0m\u001b[0;34m)\u001b[0m\u001b[0;34m\u001b[0m\u001b[0;34m\u001b[0m\u001b[0m\n\u001b[0m\u001b[1;32m    138\u001b[0m                 \u001b[0;32mreturn\u001b[0m \u001b[0mtype\u001b[0m\u001b[0;34m(\u001b[0m\u001b[0mself\u001b[0m\u001b[0;34m)\u001b[0m\u001b[0;34m(\u001b[0m\u001b[0mrow\u001b[0m\u001b[0;34m[\u001b[0m\u001b[0mcol_slice\u001b[0m\u001b[0;34m]\u001b[0m \u001b[0;32mfor\u001b[0m \u001b[0mrow\u001b[0m \u001b[0;32min\u001b[0m \u001b[0mself\u001b[0m\u001b[0;34m.\u001b[0m\u001b[0m__array\u001b[0m\u001b[0;34m[\u001b[0m\u001b[0mrow_slice\u001b[0m\u001b[0;34m]\u001b[0m\u001b[0;34m)\u001b[0m\u001b[0;34m\u001b[0m\u001b[0;34m\u001b[0m\u001b[0m\n\u001b[1;32m    139\u001b[0m \u001b[0;34m\u001b[0m\u001b[0m\n",
      "\u001b[0;32m~/My_Works/projects/matrix/matrix/utils.py\u001b[0m in \u001b[0;36madjust_slice\u001b[0;34m(s, length)\u001b[0m\n\u001b[1;32m     29\u001b[0m \u001b[0;34m\u001b[0m\u001b[0m\n\u001b[1;32m     30\u001b[0m     \u001b[0;32mif\u001b[0m \u001b[0many\u001b[0m\u001b[0;34m(\u001b[0m\u001b[0;32mNone\u001b[0m \u001b[0;32mis\u001b[0m \u001b[0;32mnot\u001b[0m \u001b[0mx\u001b[0m \u001b[0;34m<\u001b[0m \u001b[0;36m1\u001b[0m \u001b[0;32mfor\u001b[0m \u001b[0mx\u001b[0m \u001b[0;32min\u001b[0m \u001b[0;34m(\u001b[0m\u001b[0ms\u001b[0m\u001b[0;34m.\u001b[0m\u001b[0mstart\u001b[0m\u001b[0;34m,\u001b[0m \u001b[0ms\u001b[0m\u001b[0;34m.\u001b[0m\u001b[0mstop\u001b[0m\u001b[0;34m,\u001b[0m \u001b[0ms\u001b[0m\u001b[0;34m.\u001b[0m\u001b[0mstep\u001b[0m\u001b[0;34m)\u001b[0m\u001b[0;34m)\u001b[0m\u001b[0;34m:\u001b[0m\u001b[0;34m\u001b[0m\u001b[0;34m\u001b[0m\u001b[0m\n\u001b[0;32m---> 31\u001b[0;31m         raise ValueError(\"%r -> 'start', 'stop' or 'step' is less than 1.\"\n\u001b[0m\u001b[1;32m     32\u001b[0m                         % display_slice(s))\n\u001b[1;32m     33\u001b[0m     \u001b[0;32mif\u001b[0m \u001b[0ms\u001b[0m\u001b[0;34m.\u001b[0m\u001b[0mstop\u001b[0m \u001b[0;32mis\u001b[0m \u001b[0;32mNone\u001b[0m\u001b[0;34m:\u001b[0m\u001b[0;34m\u001b[0m\u001b[0;34m\u001b[0m\u001b[0m\n",
      "\u001b[0;31mValueError\u001b[0m: '-1:0' -> 'start', 'stop' or 'step' is less than 1."
     ]
    }
   ],
   "source": [
    "# Indices less than 1 are not allowed.\n",
    "m[-1:0, 1:3]"
   ]
  },
  {
   "cell_type": "code",
   "execution_count": 11,
   "id": "assured-truck",
   "metadata": {},
   "outputs": [
    {
     "ename": "ValueError",
     "evalue": "'1:3:0' -> 'start', 'stop' or 'step' is less than 1.",
     "output_type": "error",
     "traceback": [
      "\u001b[0;31m---------------------------------------------------------------------------\u001b[0m",
      "\u001b[0;31mValueError\u001b[0m                                Traceback (most recent call last)",
      "\u001b[0;32m<ipython-input-11-e8226455f392>\u001b[0m in \u001b[0;36m<module>\u001b[0;34m\u001b[0m\n\u001b[1;32m      1\u001b[0m \u001b[0;31m# steps less than 1 are not allowed.\u001b[0m\u001b[0;34m\u001b[0m\u001b[0;34m\u001b[0m\u001b[0;34m\u001b[0m\u001b[0m\n\u001b[0;32m----> 2\u001b[0;31m \u001b[0mm\u001b[0m\u001b[0;34m[\u001b[0m\u001b[0;36m1\u001b[0m\u001b[0;34m:\u001b[0m\u001b[0;36m4\u001b[0m\u001b[0;34m,\u001b[0m \u001b[0;36m1\u001b[0m\u001b[0;34m:\u001b[0m\u001b[0;36m3\u001b[0m\u001b[0;34m:\u001b[0m\u001b[0;36m0\u001b[0m\u001b[0;34m]\u001b[0m\u001b[0;34m\u001b[0m\u001b[0;34m\u001b[0m\u001b[0m\n\u001b[0m",
      "\u001b[0;32m~/My_Works/projects/matrix/matrix/matrix.py\u001b[0m in \u001b[0;36m__getitem__\u001b[0;34m(self, sub)\u001b[0m\n\u001b[1;32m    135\u001b[0m \u001b[0;34m\u001b[0m\u001b[0m\n\u001b[1;32m    136\u001b[0m             \u001b[0;32melif\u001b[0m \u001b[0mall\u001b[0m\u001b[0;34m(\u001b[0m\u001b[0misinstance\u001b[0m\u001b[0;34m(\u001b[0m\u001b[0mx\u001b[0m\u001b[0;34m,\u001b[0m \u001b[0mslice\u001b[0m\u001b[0;34m)\u001b[0m \u001b[0;32mfor\u001b[0m \u001b[0mx\u001b[0m \u001b[0;32min\u001b[0m \u001b[0msub\u001b[0m\u001b[0;34m)\u001b[0m\u001b[0;34m:\u001b[0m\u001b[0;34m\u001b[0m\u001b[0;34m\u001b[0m\u001b[0m\n\u001b[0;32m--> 137\u001b[0;31m                 \u001b[0mrow_slice\u001b[0m\u001b[0;34m,\u001b[0m \u001b[0mcol_slice\u001b[0m \u001b[0;34m=\u001b[0m \u001b[0mmap\u001b[0m\u001b[0;34m(\u001b[0m\u001b[0madjust_slice\u001b[0m\u001b[0;34m,\u001b[0m \u001b[0msub\u001b[0m\u001b[0;34m,\u001b[0m \u001b[0mself\u001b[0m\u001b[0;34m.\u001b[0m\u001b[0msize\u001b[0m\u001b[0;34m)\u001b[0m\u001b[0;34m\u001b[0m\u001b[0;34m\u001b[0m\u001b[0m\n\u001b[0m\u001b[1;32m    138\u001b[0m                 \u001b[0;32mreturn\u001b[0m \u001b[0mtype\u001b[0m\u001b[0;34m(\u001b[0m\u001b[0mself\u001b[0m\u001b[0;34m)\u001b[0m\u001b[0;34m(\u001b[0m\u001b[0mrow\u001b[0m\u001b[0;34m[\u001b[0m\u001b[0mcol_slice\u001b[0m\u001b[0;34m]\u001b[0m \u001b[0;32mfor\u001b[0m \u001b[0mrow\u001b[0m \u001b[0;32min\u001b[0m \u001b[0mself\u001b[0m\u001b[0;34m.\u001b[0m\u001b[0m__array\u001b[0m\u001b[0;34m[\u001b[0m\u001b[0mrow_slice\u001b[0m\u001b[0;34m]\u001b[0m\u001b[0;34m)\u001b[0m\u001b[0;34m\u001b[0m\u001b[0;34m\u001b[0m\u001b[0m\n\u001b[1;32m    139\u001b[0m \u001b[0;34m\u001b[0m\u001b[0m\n",
      "\u001b[0;32m~/My_Works/projects/matrix/matrix/utils.py\u001b[0m in \u001b[0;36madjust_slice\u001b[0;34m(s, length)\u001b[0m\n\u001b[1;32m     29\u001b[0m \u001b[0;34m\u001b[0m\u001b[0m\n\u001b[1;32m     30\u001b[0m     \u001b[0;32mif\u001b[0m \u001b[0many\u001b[0m\u001b[0;34m(\u001b[0m\u001b[0;32mNone\u001b[0m \u001b[0;32mis\u001b[0m \u001b[0;32mnot\u001b[0m \u001b[0mx\u001b[0m \u001b[0;34m<\u001b[0m \u001b[0;36m1\u001b[0m \u001b[0;32mfor\u001b[0m \u001b[0mx\u001b[0m \u001b[0;32min\u001b[0m \u001b[0;34m(\u001b[0m\u001b[0ms\u001b[0m\u001b[0;34m.\u001b[0m\u001b[0mstart\u001b[0m\u001b[0;34m,\u001b[0m \u001b[0ms\u001b[0m\u001b[0;34m.\u001b[0m\u001b[0mstop\u001b[0m\u001b[0;34m,\u001b[0m \u001b[0ms\u001b[0m\u001b[0;34m.\u001b[0m\u001b[0mstep\u001b[0m\u001b[0;34m)\u001b[0m\u001b[0;34m)\u001b[0m\u001b[0;34m:\u001b[0m\u001b[0;34m\u001b[0m\u001b[0;34m\u001b[0m\u001b[0m\n\u001b[0;32m---> 31\u001b[0;31m         raise ValueError(\"%r -> 'start', 'stop' or 'step' is less than 1.\"\n\u001b[0m\u001b[1;32m     32\u001b[0m                         % display_slice(s))\n\u001b[1;32m     33\u001b[0m     \u001b[0;32mif\u001b[0m \u001b[0ms\u001b[0m\u001b[0;34m.\u001b[0m\u001b[0mstop\u001b[0m \u001b[0;32mis\u001b[0m \u001b[0;32mNone\u001b[0m\u001b[0;34m:\u001b[0m\u001b[0;34m\u001b[0m\u001b[0;34m\u001b[0m\u001b[0m\n",
      "\u001b[0;31mValueError\u001b[0m: '1:3:0' -> 'start', 'stop' or 'step' is less than 1."
     ]
    }
   ],
   "source": [
    "# steps less than 1 are not allowed.\n",
    "m[1:4, 1:3:0]"
   ]
  },
  {
   "cell_type": "code",
   "execution_count": 12,
   "id": "superior-movement",
   "metadata": {},
   "outputs": [
    {
     "name": "stdout",
     "output_type": "stream",
     "text": [
      "―――――――――――――――――――――\n",
      "| 97 | 50 | 66 | 24 |\n",
      "―――――――――――――――――――――\n",
      "| 69 | 91 | 6  | 32 |\n",
      "―――――――――――――――――――――\n",
      "| 89 | 40 | 4  | 81 |\n",
      "―――――――――――――――――――――\n",
      "| 54 | 16 | 4  | 82 |\n",
      "―――――――――――――――――――――\n"
     ]
    }
   ],
   "source": [
    "# any 'stop' greater than the number of rows/columns is \"forgiven\".\n",
    "print(m[:100, :100])"
   ]
  },
  {
   "cell_type": "code",
   "execution_count": 13,
   "id": "resistant-invalid",
   "metadata": {
    "scrolled": false
   },
   "outputs": [
    {
     "name": "stdout",
     "output_type": "stream",
     "text": [
      "―――――――――――――――――――――\n",
      "| 4  | 15 | 90 | 47 |\n",
      "―――――――――――――――――――――\n",
      "| 97 | 24 | 19 | 62 |\n",
      "―――――――――――――――――――――\n",
      "| 31 | 54 | 62 | 54 |\n",
      "―――――――――――――――――――――\n",
      "| 58 | 11 | 56 | 92 |\n",
      "―――――――――――――――――――――\n",
      "―――――――――――――――――――――\n",
      "| 0  | 15 | 90 | 47 |\n",
      "―――――――――――――――――――――\n",
      "| 97 | 24 | 19 | 62 |\n",
      "―――――――――――――――――――――\n",
      "| 90 | 47 | 62 | 54 |\n",
      "―――――――――――――――――――――\n",
      "| 19 | 62 | 56 | 92 |\n",
      "―――――――――――――――――――――\n",
      "―――――――――――――――――――――\n",
      "| 0  | 15 | 90 | 47 |\n",
      "―――――――――――――――――――――\n",
      "| 97 | 0  | 19 | 0  |\n",
      "―――――――――――――――――――――\n",
      "| 90 | 47 | 62 | 54 |\n",
      "―――――――――――――――――――――\n",
      "| 19 | 0  | 56 | 0  |\n",
      "―――――――――――――――――――――\n"
     ]
    }
   ],
   "source": [
    "# These can also be used to update the matrix\n",
    "m = randint_matrix(4, 4, range(0, 100))\n",
    "print(m)\n",
    "m[1, 1] = 0\n",
    "m[3:, :2] = m[:2, 3:]  # Copies the upper right squaare to the lower left\n",
    "print(m)\n",
    "m[2::2, 2::2] = [[0]*2]*2\n",
    "print(m)"
   ]
  },
  {
   "cell_type": "code",
   "execution_count": 14,
   "id": "relevant-county",
   "metadata": {},
   "outputs": [
    {
     "name": "stdout",
     "output_type": "stream",
     "text": [
      "―――――――――――――――――――\n",
      "| 3 | 0  | 3  | 0 |\n",
      "―――――――――――――――――――\n",
      "| 4 | 7  | 3  | 3 |\n",
      "―――――――――――――――――――\n",
      "| 9 | -4 | -9 | 7 |\n",
      "―――――――――――――――――――\n",
      "| 1 | 0  | -1 | 3 |\n",
      "―――――――――――――――――――\n",
      "――――――――――――――――――――\n",
      "| 8  | 0  | 3  | 0 |\n",
      "――――――――――――――――――――\n",
      "| 4  | 7  | 3  | 3 |\n",
      "――――――――――――――――――――\n",
      "| 12 | -4 | -9 | 7 |\n",
      "――――――――――――――――――――\n",
      "| 4  | 3  | -1 | 3 |\n",
      "――――――――――――――――――――\n"
     ]
    }
   ],
   "source": [
    "# Augmented assignment (addition)\n",
    "m = randint_matrix(4, 4, range(-9, 10))\n",
    "print(m)\n",
    "m[1, 1] += 5\n",
    "m[3:, :2] += m[:2, 3:]\n",
    "print(m)"
   ]
  },
  {
   "cell_type": "markdown",
   "id": "quality-furniture",
   "metadata": {},
   "source": [
    "## Truth Value"
   ]
  },
  {
   "cell_type": "code",
   "execution_count": 15,
   "id": "turned-force",
   "metadata": {},
   "outputs": [
    {
     "name": "stdout",
     "output_type": "stream",
     "text": [
      "―――――――――\n",
      "| 1 | 0 |\n",
      "―――――――――\n",
      "| 0 | 0 |\n",
      "―――――――――\n",
      "True\n",
      "False\n"
     ]
    }
   ],
   "source": [
    "m = Matrix([[1, 0], [0, 0]])\n",
    "print(m)\n",
    "print(bool(m))  # true as long as it's not a null matrix\n",
    "print(bool(Matrix(2, 2)))  # Null matrix"
   ]
  },
  {
   "cell_type": "markdown",
   "id": "inappropriate-pointer",
   "metadata": {},
   "source": [
    "## Membership test for elements"
   ]
  },
  {
   "cell_type": "code",
   "execution_count": 16,
   "id": "dried-leader",
   "metadata": {},
   "outputs": [
    {
     "name": "stdout",
     "output_type": "stream",
     "text": [
      "True\n",
      "False\n"
     ]
    }
   ],
   "source": [
    "m = Matrix([[1, 2], [0, -4]])\n",
    "print(2 in m)\n",
    "print(-1 in m)"
   ]
  },
  {
   "cell_type": "markdown",
   "id": "sporting-australian",
   "metadata": {},
   "source": [
    "## Iteration over elements"
   ]
  },
  {
   "cell_type": "code",
   "execution_count": 17,
   "id": "coral-exercise",
   "metadata": {},
   "outputs": [
    {
     "name": "stdout",
     "output_type": "stream",
     "text": [
      "1 2 0 -4 \n",
      "[Element('1'), Element('2'), Element('0'), Element('-4')]\n"
     ]
    }
   ],
   "source": [
    "m = Matrix([[1, 2], [0, -4]])\n",
    "for elem in m:\n",
    "    print(elem, end=' ')\n",
    "print()\n",
    "print(list(m))"
   ]
  },
  {
   "cell_type": "code",
   "execution_count": 18,
   "id": "educational-aggregate",
   "metadata": {},
   "outputs": [
    {
     "name": "stdout",
     "output_type": "stream",
     "text": [
      "―――――――――――――――\n",
      "| 8  | -9 | 7 |\n",
      "―――――――――――――――\n",
      "| -7 | 2  | 1 |\n",
      "―――――――――――――――\n",
      "| 2  | -1 | 6 |\n",
      "―――――――――――――――\n",
      "8\n",
      "-7\n",
      "2\n",
      "-1\n",
      "6\n"
     ]
    }
   ],
   "source": [
    "# Advanced Usage\n",
    "m = randint_matrix(3, 3, range(-9, 10))\n",
    "print(m)\n",
    "m_iter = iter(m)\n",
    "print(next(m_iter))  # returns [1, 1]\n",
    "print(m_iter.send(2))  # returns [2, 1]\n",
    "print(next(m_iter))  # returns [2, 2]\n",
    "print(m_iter.send((3, 2)))  # returns [3, 2]\n",
    "print(next(m_iter))  # returns [3, 3]"
   ]
  },
  {
   "cell_type": "markdown",
   "id": "fancy-taiwan",
   "metadata": {},
   "source": [
    "## Per-element rounding"
   ]
  },
  {
   "cell_type": "code",
   "execution_count": 19,
   "id": "suffering-horizontal",
   "metadata": {},
   "outputs": [
    {
     "name": "stdout",
     "output_type": "stream",
     "text": [
      "――――――――――\n",
      "| 2 | 7  |\n",
      "――――――――――\n",
      "| 8 | -6 |\n",
      "――――――――――\n",
      "――――――――――――――――――\n",
      "| 1.892 | 7.266  |\n",
      "――――――――――――――――――\n",
      "| 8.477 | -6.273 |\n",
      "――――――――――――――――――\n",
      "――――――――――――――――\n",
      "| 1.89 | 7.27  |\n",
      "――――――――――――――――\n",
      "| 8.48 | -6.27 |\n",
      "――――――――――――――――\n"
     ]
    }
   ],
   "source": [
    "m = random_matrix(2, 2, -10, 10)\n",
    "print(round(m))\n",
    "print(m)  # unmodified\n",
    "m.round(2)\n",
    "print(m)  # modified"
   ]
  }
 ],
 "metadata": {
  "kernelspec": {
   "display_name": "Python 3",
   "language": "python",
   "name": "python3"
  },
  "language_info": {
   "codemirror_mode": {
    "name": "ipython",
    "version": 3
   },
   "file_extension": ".py",
   "mimetype": "text/x-python",
   "name": "python",
   "nbconvert_exporter": "python",
   "pygments_lexer": "ipython3",
   "version": "3.8.6"
  }
 },
 "nbformat": 4,
 "nbformat_minor": 5
}
