{
 "cells": [
  {
   "cell_type": "markdown",
   "id": "expanded-sucking",
   "metadata": {},
   "source": [
    "# Object Interactions"
   ]
  },
  {
   "cell_type": "code",
   "execution_count": 1,
   "id": "hollywood-force",
   "metadata": {},
   "outputs": [],
   "source": [
    "from matrix import *"
   ]
  },
  {
   "cell_type": "markdown",
   "id": "extraordinary-building",
   "metadata": {},
   "source": [
    "## Intelligent string representation"
   ]
  },
  {
   "cell_type": "code",
   "execution_count": 2,
   "id": "personal-trinidad",
   "metadata": {},
   "outputs": [
    {
     "name": "stdout",
     "output_type": "stream",
     "text": [
      "+―――――――――――――――+\n",
      "| 7 | 6 | 7 | 6 |\n",
      "|―――+―――+―――+―――|\n",
      "| 1 | 9 | 3 | 3 |\n",
      "|―――+―――+―――+―――|\n",
      "| 5 | 4 | 7 | 3 |\n",
      "|―――+―――+―――+―――|\n",
      "| 0 | 7 | 8 | 5 |\n",
      "+―――――――――――――――+\n"
     ]
    }
   ],
   "source": [
    "m = randint_matrix(4, 4, range(0, 10))\n",
    "print(m)"
   ]
  },
  {
   "cell_type": "code",
   "execution_count": 3,
   "id": "extreme-collector",
   "metadata": {},
   "outputs": [
    {
     "name": "stdout",
     "output_type": "stream",
     "text": [
      "+―――――――――――――――――――――――――+\n",
      "| 3000 |    1     |  -10  |\n",
      "|――――――+――――――――――+―――――――|\n",
      "|  33  | 4.34e+04 |  478  |\n",
      "|――――――+――――――――――+―――――――|\n",
      "|  2   |   5000   | -1000 |\n",
      "+―――――――――――――――――――――――――+\n"
     ]
    }
   ],
   "source": [
    "# The element with the longest string representation in a column determines that column's width.\n",
    "print(Matrix([[3000, 1, -10], [33, 43400, 478], [2, 5000, -1000]]))"
   ]
  },
  {
   "cell_type": "code",
   "execution_count": 4,
   "id": "brave-martial",
   "metadata": {},
   "outputs": [
    {
     "name": "stdout",
     "output_type": "stream",
     "text": [
      "139773269240704\n",
      "+―――――――――――――――――――+\n",
      "| 58 | 0  | 37 | 11 |\n",
      "|――――+――――+――――+――――|\n",
      "| 28 | 18 | 61 | 59 |\n",
      "|――――+――――+――――+――――|\n",
      "| 88 | 77 | 46 | 96 |\n",
      "|――――+――――+――――+――――|\n",
      "| 23 | 79 | 71 | 81 |\n",
      "+―――――――――――――――――――+\n",
      "139773269240704\n",
      "+―――――――――――――――――――――――――――――――――――――――――――――――+\n",
      "|   6873    |   3718    |   4629    |   5081    |\n",
      "|―――――――――――+―――――――――――+―――――――――――+―――――――――――|\n",
      "|   8853    |   9682    |   9129    | 1.200e+04 |\n",
      "|―――――――――――+―――――――――――+―――――――――――+―――――――――――|\n",
      "| 1.352e+04 | 1.251e+04 | 1.688e+04 | 1.77e+04  |\n",
      "|―――――――――――+―――――――――――+―――――――――――+―――――――――――|\n",
      "| 1.166e+04 | 1.329e+04 | 1.469e+04 | 1.829e+04 |\n",
      "+―――――――――――――――――――――――――――――――――――――――――――――――+\n",
      "139773269240704\n",
      "+―――――――――――――――――――――――――――――――――――――――――――――――+\n",
      "| 1.352e+04 | 1.251e+04 | 1.688e+04 | 1.77e+04  |\n",
      "|―――――――――――+―――――――――――+―――――――――――+―――――――――――|\n",
      "| 1.166e+04 | 1.329e+04 | 1.469e+04 | 1.829e+04 |\n",
      "+―――――――――――――――――――――――――――――――――――――――――――――――+\n"
     ]
    }
   ],
   "source": [
    "# The matrix object remains the same but its string representation\n",
    "# dynamically adjusts to whatever its contents are.\n",
    "m = randint_matrix(4, 4, range(0, 100))\n",
    "print(id(m))\n",
    "print(m)\n",
    "m @= m  ## In-place matrix multiplication\n",
    "print(id(m))\n",
    "print(m)\n",
    "del m.rows[:2] # deletes first two rows\n",
    "print(id(m))\n",
    "print(m)"
   ]
  },
  {
   "cell_type": "markdown",
   "id": "popular-blade",
   "metadata": {},
   "source": [
    "## Subscription"
   ]
  },
  {
   "cell_type": "code",
   "execution_count": 5,
   "id": "vocal-community",
   "metadata": {},
   "outputs": [
    {
     "name": "stdout",
     "output_type": "stream",
     "text": [
      "+―――――――――――――――――――+\n",
      "| 4  | 54 | 46 | 86 |\n",
      "|――――+――――+――――+――――|\n",
      "| 74 | 5  | 14 | 64 |\n",
      "|――――+――――+――――+――――|\n",
      "| 70 | 36 | 37 | 22 |\n",
      "|――――+――――+――――+――――|\n",
      "| 80 | 43 | 1  | 19 |\n",
      "+―――――――――――――――――――+\n"
     ]
    }
   ],
   "source": [
    "m = randint_matrix(4, 4, range(0, 100))\n",
    "print(m)"
   ]
  },
  {
   "cell_type": "code",
   "execution_count": 6,
   "id": "molecular-setting",
   "metadata": {},
   "outputs": [
    {
     "name": "stdout",
     "output_type": "stream",
     "text": [
      "4 14 19\n"
     ]
    },
    {
     "data": {
      "text/plain": [
       "Element('4')"
      ]
     },
     "execution_count": 6,
     "metadata": {},
     "output_type": "execute_result"
    }
   ],
   "source": [
    "# Single-element indexing\n",
    "print(m[1, 1], m[2, 3], m[4, 4])\n",
    "m[1, 1]"
   ]
  },
  {
   "cell_type": "code",
   "execution_count": 7,
   "id": "intense-yield",
   "metadata": {
    "scrolled": true
   },
   "outputs": [
    {
     "ename": "IndexError",
     "evalue": "Row and/or Column index is/are out of range.",
     "output_type": "error",
     "traceback": [
      "\u001b[0;31m---------------------------------------------------------------------------\u001b[0m",
      "\u001b[0;31mIndexError\u001b[0m                                Traceback (most recent call last)",
      "\u001b[0;32m<ipython-input-7-51ab94680c92>\u001b[0m in \u001b[0;36m<module>\u001b[0;34m\u001b[0m\n\u001b[0;32m----> 1\u001b[0;31m \u001b[0mprint\u001b[0m\u001b[0;34m(\u001b[0m\u001b[0mm\u001b[0m\u001b[0;34m[\u001b[0m\u001b[0;36m0\u001b[0m\u001b[0;34m,\u001b[0m \u001b[0;36m5\u001b[0m\u001b[0;34m]\u001b[0m\u001b[0;34m)\u001b[0m\u001b[0;34m\u001b[0m\u001b[0;34m\u001b[0m\u001b[0m\n\u001b[0m",
      "\u001b[0;32m~/My_Works/projects/matrix/matrix/matrix.py\u001b[0m in \u001b[0;36m__getitem__\u001b[0;34m(self, sub)\u001b[0m\n\u001b[1;32m    135\u001b[0m                     \u001b[0;32mreturn\u001b[0m \u001b[0mself\u001b[0m\u001b[0;34m.\u001b[0m\u001b[0m__array\u001b[0m\u001b[0;34m[\u001b[0m\u001b[0mrow\u001b[0m \u001b[0;34m-\u001b[0m \u001b[0;36m1\u001b[0m\u001b[0;34m]\u001b[0m\u001b[0;34m[\u001b[0m\u001b[0mcol\u001b[0m \u001b[0;34m-\u001b[0m \u001b[0;36m1\u001b[0m\u001b[0;34m]\u001b[0m\u001b[0;34m\u001b[0m\u001b[0;34m\u001b[0m\u001b[0m\n\u001b[1;32m    136\u001b[0m                 \u001b[0;32melse\u001b[0m\u001b[0;34m:\u001b[0m\u001b[0;34m\u001b[0m\u001b[0;34m\u001b[0m\u001b[0m\n\u001b[0;32m--> 137\u001b[0;31m                     \u001b[0;32mraise\u001b[0m \u001b[0mIndexError\u001b[0m\u001b[0;34m(\u001b[0m\u001b[0;34m\"Row and/or Column index is/are out of range.\"\u001b[0m\u001b[0;34m)\u001b[0m\u001b[0;34m\u001b[0m\u001b[0;34m\u001b[0m\u001b[0m\n\u001b[0m\u001b[1;32m    138\u001b[0m \u001b[0;34m\u001b[0m\u001b[0m\n\u001b[1;32m    139\u001b[0m             \u001b[0;32melif\u001b[0m \u001b[0mall\u001b[0m\u001b[0;34m(\u001b[0m\u001b[0misinstance\u001b[0m\u001b[0;34m(\u001b[0m\u001b[0mx\u001b[0m\u001b[0;34m,\u001b[0m \u001b[0mslice\u001b[0m\u001b[0;34m)\u001b[0m \u001b[0;32mfor\u001b[0m \u001b[0mx\u001b[0m \u001b[0;32min\u001b[0m \u001b[0msub\u001b[0m\u001b[0;34m)\u001b[0m\u001b[0;34m:\u001b[0m\u001b[0;34m\u001b[0m\u001b[0;34m\u001b[0m\u001b[0m\n",
      "\u001b[0;31mIndexError\u001b[0m: Row and/or Column index is/are out of range."
     ]
    }
   ],
   "source": [
    "print(m[0, 5])"
   ]
  },
  {
   "cell_type": "code",
   "execution_count": 8,
   "id": "adaptive-theater",
   "metadata": {
    "scrolled": false
   },
   "outputs": [
    {
     "name": "stdout",
     "output_type": "stream",
     "text": [
      "+――――――――――――――+\n",
      "| 54 | 46 | 86 |\n",
      "|――――+――――+――――|\n",
      "| 5  | 14 | 64 |\n",
      "+――――――――――――――+\n",
      "+―――――――――――――――――――+\n",
      "| 4  | 54 | 46 | 86 |\n",
      "|――――+――――+――――+――――|\n",
      "| 74 | 5  | 14 | 64 |\n",
      "|――――+――――+――――+――――|\n",
      "| 70 | 36 | 37 | 22 |\n",
      "|――――+――――+――――+――――|\n",
      "| 80 | 43 | 1  | 19 |\n",
      "+―――――――――――――――――――+\n",
      "+―――――――――+\n",
      "| 4  | 46 |\n",
      "|――――+――――|\n",
      "| 70 | 37 |\n",
      "+―――――――――+\n"
     ]
    },
    {
     "data": {
      "text/plain": [
       "<2x3 Matrix at 0x7f1f800fe590>"
      ]
     },
     "execution_count": 8,
     "metadata": {},
     "output_type": "execute_result"
    }
   ],
   "source": [
    "# Block-slicing. Always includes the 'stop' index\n",
    "print(m[1:2, 2:4])  # Rows 1-2, Columns 2-4.\n",
    "print(m[:, :])  # A copy of the matrix\n",
    "print(m[::2, ::2])  # Steps are supported\n",
    "m[1:2, 2:4]"
   ]
  },
  {
   "cell_type": "code",
   "execution_count": 9,
   "id": "behavioral-classification",
   "metadata": {},
   "outputs": [
    {
     "ename": "ValueError",
     "evalue": "'-1:0' -> 'start', 'stop' or 'step' is less than 1.",
     "output_type": "error",
     "traceback": [
      "\u001b[0;31m---------------------------------------------------------------------------\u001b[0m",
      "\u001b[0;31mValueError\u001b[0m                                Traceback (most recent call last)",
      "\u001b[0;32m<ipython-input-9-ee0e4d3f6bc6>\u001b[0m in \u001b[0;36m<module>\u001b[0;34m\u001b[0m\n\u001b[1;32m      1\u001b[0m \u001b[0;31m# Indices less than 1 are not allowed.\u001b[0m\u001b[0;34m\u001b[0m\u001b[0;34m\u001b[0m\u001b[0;34m\u001b[0m\u001b[0m\n\u001b[0;32m----> 2\u001b[0;31m \u001b[0mm\u001b[0m\u001b[0;34m[\u001b[0m\u001b[0;34m-\u001b[0m\u001b[0;36m1\u001b[0m\u001b[0;34m:\u001b[0m\u001b[0;36m0\u001b[0m\u001b[0;34m,\u001b[0m \u001b[0;36m1\u001b[0m\u001b[0;34m:\u001b[0m\u001b[0;36m3\u001b[0m\u001b[0;34m]\u001b[0m\u001b[0;34m\u001b[0m\u001b[0;34m\u001b[0m\u001b[0m\n\u001b[0m",
      "\u001b[0;32m~/My_Works/projects/matrix/matrix/matrix.py\u001b[0m in \u001b[0;36m__getitem__\u001b[0;34m(self, sub)\u001b[0m\n\u001b[1;32m    138\u001b[0m \u001b[0;34m\u001b[0m\u001b[0m\n\u001b[1;32m    139\u001b[0m             \u001b[0;32melif\u001b[0m \u001b[0mall\u001b[0m\u001b[0;34m(\u001b[0m\u001b[0misinstance\u001b[0m\u001b[0;34m(\u001b[0m\u001b[0mx\u001b[0m\u001b[0;34m,\u001b[0m \u001b[0mslice\u001b[0m\u001b[0;34m)\u001b[0m \u001b[0;32mfor\u001b[0m \u001b[0mx\u001b[0m \u001b[0;32min\u001b[0m \u001b[0msub\u001b[0m\u001b[0;34m)\u001b[0m\u001b[0;34m:\u001b[0m\u001b[0;34m\u001b[0m\u001b[0;34m\u001b[0m\u001b[0m\n\u001b[0;32m--> 140\u001b[0;31m                 \u001b[0mrow_slice\u001b[0m\u001b[0;34m,\u001b[0m \u001b[0mcol_slice\u001b[0m \u001b[0;34m=\u001b[0m \u001b[0mmap\u001b[0m\u001b[0;34m(\u001b[0m\u001b[0madjust_slice\u001b[0m\u001b[0;34m,\u001b[0m \u001b[0msub\u001b[0m\u001b[0;34m,\u001b[0m \u001b[0mself\u001b[0m\u001b[0;34m.\u001b[0m\u001b[0msize\u001b[0m\u001b[0;34m)\u001b[0m\u001b[0;34m\u001b[0m\u001b[0;34m\u001b[0m\u001b[0m\n\u001b[0m\u001b[1;32m    141\u001b[0m                 \u001b[0;32mreturn\u001b[0m \u001b[0mtype\u001b[0m\u001b[0;34m(\u001b[0m\u001b[0mself\u001b[0m\u001b[0;34m)\u001b[0m\u001b[0;34m(\u001b[0m\u001b[0mrow\u001b[0m\u001b[0;34m[\u001b[0m\u001b[0mcol_slice\u001b[0m\u001b[0;34m]\u001b[0m \u001b[0;32mfor\u001b[0m \u001b[0mrow\u001b[0m \u001b[0;32min\u001b[0m \u001b[0mself\u001b[0m\u001b[0;34m.\u001b[0m\u001b[0m__array\u001b[0m\u001b[0;34m[\u001b[0m\u001b[0mrow_slice\u001b[0m\u001b[0;34m]\u001b[0m\u001b[0;34m)\u001b[0m\u001b[0;34m\u001b[0m\u001b[0;34m\u001b[0m\u001b[0m\n\u001b[1;32m    142\u001b[0m \u001b[0;34m\u001b[0m\u001b[0m\n",
      "\u001b[0;32m~/My_Works/projects/matrix/matrix/utils.py\u001b[0m in \u001b[0;36madjust_slice\u001b[0;34m(s, length)\u001b[0m\n\u001b[1;32m     29\u001b[0m \u001b[0;34m\u001b[0m\u001b[0m\n\u001b[1;32m     30\u001b[0m     \u001b[0;32mif\u001b[0m \u001b[0many\u001b[0m\u001b[0;34m(\u001b[0m\u001b[0;32mNone\u001b[0m \u001b[0;32mis\u001b[0m \u001b[0;32mnot\u001b[0m \u001b[0mx\u001b[0m \u001b[0;34m<\u001b[0m \u001b[0;36m1\u001b[0m \u001b[0;32mfor\u001b[0m \u001b[0mx\u001b[0m \u001b[0;32min\u001b[0m \u001b[0;34m(\u001b[0m\u001b[0ms\u001b[0m\u001b[0;34m.\u001b[0m\u001b[0mstart\u001b[0m\u001b[0;34m,\u001b[0m \u001b[0ms\u001b[0m\u001b[0;34m.\u001b[0m\u001b[0mstop\u001b[0m\u001b[0;34m,\u001b[0m \u001b[0ms\u001b[0m\u001b[0;34m.\u001b[0m\u001b[0mstep\u001b[0m\u001b[0;34m)\u001b[0m\u001b[0;34m)\u001b[0m\u001b[0;34m:\u001b[0m\u001b[0;34m\u001b[0m\u001b[0;34m\u001b[0m\u001b[0m\n\u001b[0;32m---> 31\u001b[0;31m         raise ValueError(\"%r -> 'start', 'stop' or 'step' is less than 1.\"\n\u001b[0m\u001b[1;32m     32\u001b[0m                         % display_slice(s))\n\u001b[1;32m     33\u001b[0m     \u001b[0;32mif\u001b[0m \u001b[0ms\u001b[0m\u001b[0;34m.\u001b[0m\u001b[0mstop\u001b[0m \u001b[0;32mis\u001b[0m \u001b[0;32mNone\u001b[0m\u001b[0;34m:\u001b[0m\u001b[0;34m\u001b[0m\u001b[0;34m\u001b[0m\u001b[0m\n",
      "\u001b[0;31mValueError\u001b[0m: '-1:0' -> 'start', 'stop' or 'step' is less than 1."
     ]
    }
   ],
   "source": [
    "# Indices less than 1 are not allowed.\n",
    "m[-1:0, 1:3]"
   ]
  },
  {
   "cell_type": "code",
   "execution_count": 10,
   "id": "assured-truck",
   "metadata": {},
   "outputs": [
    {
     "ename": "ValueError",
     "evalue": "'1:3:0' -> 'start', 'stop' or 'step' is less than 1.",
     "output_type": "error",
     "traceback": [
      "\u001b[0;31m---------------------------------------------------------------------------\u001b[0m",
      "\u001b[0;31mValueError\u001b[0m                                Traceback (most recent call last)",
      "\u001b[0;32m<ipython-input-10-e8226455f392>\u001b[0m in \u001b[0;36m<module>\u001b[0;34m\u001b[0m\n\u001b[1;32m      1\u001b[0m \u001b[0;31m# steps less than 1 are not allowed.\u001b[0m\u001b[0;34m\u001b[0m\u001b[0;34m\u001b[0m\u001b[0;34m\u001b[0m\u001b[0m\n\u001b[0;32m----> 2\u001b[0;31m \u001b[0mm\u001b[0m\u001b[0;34m[\u001b[0m\u001b[0;36m1\u001b[0m\u001b[0;34m:\u001b[0m\u001b[0;36m4\u001b[0m\u001b[0;34m,\u001b[0m \u001b[0;36m1\u001b[0m\u001b[0;34m:\u001b[0m\u001b[0;36m3\u001b[0m\u001b[0;34m:\u001b[0m\u001b[0;36m0\u001b[0m\u001b[0;34m]\u001b[0m\u001b[0;34m\u001b[0m\u001b[0;34m\u001b[0m\u001b[0m\n\u001b[0m",
      "\u001b[0;32m~/My_Works/projects/matrix/matrix/matrix.py\u001b[0m in \u001b[0;36m__getitem__\u001b[0;34m(self, sub)\u001b[0m\n\u001b[1;32m    138\u001b[0m \u001b[0;34m\u001b[0m\u001b[0m\n\u001b[1;32m    139\u001b[0m             \u001b[0;32melif\u001b[0m \u001b[0mall\u001b[0m\u001b[0;34m(\u001b[0m\u001b[0misinstance\u001b[0m\u001b[0;34m(\u001b[0m\u001b[0mx\u001b[0m\u001b[0;34m,\u001b[0m \u001b[0mslice\u001b[0m\u001b[0;34m)\u001b[0m \u001b[0;32mfor\u001b[0m \u001b[0mx\u001b[0m \u001b[0;32min\u001b[0m \u001b[0msub\u001b[0m\u001b[0;34m)\u001b[0m\u001b[0;34m:\u001b[0m\u001b[0;34m\u001b[0m\u001b[0;34m\u001b[0m\u001b[0m\n\u001b[0;32m--> 140\u001b[0;31m                 \u001b[0mrow_slice\u001b[0m\u001b[0;34m,\u001b[0m \u001b[0mcol_slice\u001b[0m \u001b[0;34m=\u001b[0m \u001b[0mmap\u001b[0m\u001b[0;34m(\u001b[0m\u001b[0madjust_slice\u001b[0m\u001b[0;34m,\u001b[0m \u001b[0msub\u001b[0m\u001b[0;34m,\u001b[0m \u001b[0mself\u001b[0m\u001b[0;34m.\u001b[0m\u001b[0msize\u001b[0m\u001b[0;34m)\u001b[0m\u001b[0;34m\u001b[0m\u001b[0;34m\u001b[0m\u001b[0m\n\u001b[0m\u001b[1;32m    141\u001b[0m                 \u001b[0;32mreturn\u001b[0m \u001b[0mtype\u001b[0m\u001b[0;34m(\u001b[0m\u001b[0mself\u001b[0m\u001b[0;34m)\u001b[0m\u001b[0;34m(\u001b[0m\u001b[0mrow\u001b[0m\u001b[0;34m[\u001b[0m\u001b[0mcol_slice\u001b[0m\u001b[0;34m]\u001b[0m \u001b[0;32mfor\u001b[0m \u001b[0mrow\u001b[0m \u001b[0;32min\u001b[0m \u001b[0mself\u001b[0m\u001b[0;34m.\u001b[0m\u001b[0m__array\u001b[0m\u001b[0;34m[\u001b[0m\u001b[0mrow_slice\u001b[0m\u001b[0;34m]\u001b[0m\u001b[0;34m)\u001b[0m\u001b[0;34m\u001b[0m\u001b[0;34m\u001b[0m\u001b[0m\n\u001b[1;32m    142\u001b[0m \u001b[0;34m\u001b[0m\u001b[0m\n",
      "\u001b[0;32m~/My_Works/projects/matrix/matrix/utils.py\u001b[0m in \u001b[0;36madjust_slice\u001b[0;34m(s, length)\u001b[0m\n\u001b[1;32m     29\u001b[0m \u001b[0;34m\u001b[0m\u001b[0m\n\u001b[1;32m     30\u001b[0m     \u001b[0;32mif\u001b[0m \u001b[0many\u001b[0m\u001b[0;34m(\u001b[0m\u001b[0;32mNone\u001b[0m \u001b[0;32mis\u001b[0m \u001b[0;32mnot\u001b[0m \u001b[0mx\u001b[0m \u001b[0;34m<\u001b[0m \u001b[0;36m1\u001b[0m \u001b[0;32mfor\u001b[0m \u001b[0mx\u001b[0m \u001b[0;32min\u001b[0m \u001b[0;34m(\u001b[0m\u001b[0ms\u001b[0m\u001b[0;34m.\u001b[0m\u001b[0mstart\u001b[0m\u001b[0;34m,\u001b[0m \u001b[0ms\u001b[0m\u001b[0;34m.\u001b[0m\u001b[0mstop\u001b[0m\u001b[0;34m,\u001b[0m \u001b[0ms\u001b[0m\u001b[0;34m.\u001b[0m\u001b[0mstep\u001b[0m\u001b[0;34m)\u001b[0m\u001b[0;34m)\u001b[0m\u001b[0;34m:\u001b[0m\u001b[0;34m\u001b[0m\u001b[0;34m\u001b[0m\u001b[0m\n\u001b[0;32m---> 31\u001b[0;31m         raise ValueError(\"%r -> 'start', 'stop' or 'step' is less than 1.\"\n\u001b[0m\u001b[1;32m     32\u001b[0m                         % display_slice(s))\n\u001b[1;32m     33\u001b[0m     \u001b[0;32mif\u001b[0m \u001b[0ms\u001b[0m\u001b[0;34m.\u001b[0m\u001b[0mstop\u001b[0m \u001b[0;32mis\u001b[0m \u001b[0;32mNone\u001b[0m\u001b[0;34m:\u001b[0m\u001b[0;34m\u001b[0m\u001b[0;34m\u001b[0m\u001b[0m\n",
      "\u001b[0;31mValueError\u001b[0m: '1:3:0' -> 'start', 'stop' or 'step' is less than 1."
     ]
    }
   ],
   "source": [
    "# steps less than 1 are not allowed.\n",
    "m[1:4, 1:3:0]"
   ]
  },
  {
   "cell_type": "code",
   "execution_count": 11,
   "id": "superior-movement",
   "metadata": {},
   "outputs": [
    {
     "name": "stdout",
     "output_type": "stream",
     "text": [
      "+―――――――――――――――――――+\n",
      "| 4  | 54 | 46 | 86 |\n",
      "|――――+――――+――――+――――|\n",
      "| 74 | 5  | 14 | 64 |\n",
      "|――――+――――+――――+――――|\n",
      "| 70 | 36 | 37 | 22 |\n",
      "|――――+――――+――――+――――|\n",
      "| 80 | 43 | 1  | 19 |\n",
      "+―――――――――――――――――――+\n"
     ]
    }
   ],
   "source": [
    "# any 'stop' greater than the number of rows/columns is \"forgiven\".\n",
    "print(m[:100, :100])"
   ]
  },
  {
   "cell_type": "code",
   "execution_count": 12,
   "id": "resistant-invalid",
   "metadata": {
    "scrolled": false
   },
   "outputs": [
    {
     "name": "stdout",
     "output_type": "stream",
     "text": [
      "+―――――――――――――――――――+\n",
      "| 20 | 82 | 44 | 96 |\n",
      "|――――+――――+――――+――――|\n",
      "| 59 | 32 | 46 | 24 |\n",
      "|――――+――――+――――+――――|\n",
      "| 65 | 58 | 76 | 82 |\n",
      "|――――+――――+――――+――――|\n",
      "| 67 | 62 | 51 | 77 |\n",
      "+―――――――――――――――――――+\n",
      "+―――――――――――――――――――+\n",
      "| 0  | 82 | 44 | 96 |\n",
      "|――――+――――+――――+――――|\n",
      "| 59 | 32 | 46 | 24 |\n",
      "|――――+――――+――――+――――|\n",
      "| 44 | 96 | 76 | 82 |\n",
      "|――――+――――+――――+――――|\n",
      "| 46 | 24 | 51 | 77 |\n",
      "+―――――――――――――――――――+\n",
      "+―――――――――――――――――――+\n",
      "| 0  | 82 | 44 | 96 |\n",
      "|――――+――――+――――+――――|\n",
      "| 59 | 0  | 46 | 0  |\n",
      "|――――+――――+――――+――――|\n",
      "| 44 | 96 | 76 | 82 |\n",
      "|――――+――――+――――+――――|\n",
      "| 46 | 0  | 51 | 0  |\n",
      "+―――――――――――――――――――+\n"
     ]
    }
   ],
   "source": [
    "# These can also be used to update the matrix\n",
    "m = randint_matrix(4, 4, range(0, 100))\n",
    "print(m)\n",
    "m[1, 1] = 0\n",
    "m[3:, :2] = m[:2, 3:]  # Copies the upper right squaare to the lower left\n",
    "print(m)\n",
    "m[2::2, 2::2] = [[0]*2]*2\n",
    "print(m)"
   ]
  },
  {
   "cell_type": "code",
   "execution_count": 13,
   "id": "relevant-county",
   "metadata": {},
   "outputs": [
    {
     "name": "stdout",
     "output_type": "stream",
     "text": [
      "+――――――――――――――――――+\n",
      "| 2 | -2 | -8 | 9  |\n",
      "|―――+――――+――――+――――|\n",
      "| 5 | -9 | 3  | -3 |\n",
      "|―――+――――+――――+――――|\n",
      "| 0 | -9 | 8  | -8 |\n",
      "|―――+――――+――――+――――|\n",
      "| 7 | -9 | 5  | 0  |\n",
      "+――――――――――――――――――+\n",
      "+――――――――――――――――――――+\n",
      "| 7  | -2  | -8 | 9  |\n",
      "|――――+―――――+――――+――――|\n",
      "| 5  | -9  | 3  | -3 |\n",
      "|――――+―――――+――――+――――|\n",
      "| -8 |  0  | 8  | -8 |\n",
      "|――――+―――――+――――+――――|\n",
      "| 10 | -12 | 5  | 0  |\n",
      "+――――――――――――――――――――+\n"
     ]
    }
   ],
   "source": [
    "# Augmented assignment (addition)\n",
    "m = randint_matrix(4, 4, range(-9, 10))\n",
    "print(m)\n",
    "m[1, 1] += 5\n",
    "m[3:, :2] += m[:2, 3:]\n",
    "print(m)"
   ]
  },
  {
   "cell_type": "markdown",
   "id": "quality-furniture",
   "metadata": {},
   "source": [
    "## Truth Value"
   ]
  },
  {
   "cell_type": "code",
   "execution_count": 14,
   "id": "turned-force",
   "metadata": {},
   "outputs": [
    {
     "name": "stdout",
     "output_type": "stream",
     "text": [
      "+―――――――+\n",
      "| 1 | 0 |\n",
      "|―――+―――|\n",
      "| 0 | 0 |\n",
      "+―――――――+\n",
      "True\n",
      "False\n"
     ]
    }
   ],
   "source": [
    "m = Matrix([[1, 0], [0, 0]])\n",
    "print(m)\n",
    "print(bool(m))  # true as long as it's not a null matrix\n",
    "print(bool(Matrix(2, 2)))  # Null matrix"
   ]
  },
  {
   "cell_type": "markdown",
   "id": "inappropriate-pointer",
   "metadata": {},
   "source": [
    "## Membership test for elements"
   ]
  },
  {
   "cell_type": "code",
   "execution_count": 15,
   "id": "dried-leader",
   "metadata": {},
   "outputs": [
    {
     "name": "stdout",
     "output_type": "stream",
     "text": [
      "True\n",
      "False\n"
     ]
    }
   ],
   "source": [
    "m = Matrix([[1, 2], [0, -4]])\n",
    "print(2 in m)\n",
    "print(-1 in m)"
   ]
  },
  {
   "cell_type": "markdown",
   "id": "sporting-australian",
   "metadata": {},
   "source": [
    "## Iteration over elements"
   ]
  },
  {
   "cell_type": "code",
   "execution_count": 16,
   "id": "coral-exercise",
   "metadata": {},
   "outputs": [
    {
     "name": "stdout",
     "output_type": "stream",
     "text": [
      "1 2 0 -4 \n",
      "[Element('1'), Element('2'), Element('0'), Element('-4')]\n"
     ]
    }
   ],
   "source": [
    "m = Matrix([[1, 2], [0, -4]])\n",
    "for elem in m:\n",
    "    print(elem, end=' ')\n",
    "print()\n",
    "print(list(m))"
   ]
  },
  {
   "cell_type": "code",
   "execution_count": 17,
   "id": "educational-aggregate",
   "metadata": {},
   "outputs": [
    {
     "name": "stdout",
     "output_type": "stream",
     "text": [
      "+――――――――――――――+\n",
      "| -8 | -3 | 0  |\n",
      "|――――+――――+――――|\n",
      "| 8  | -6 | 0  |\n",
      "|――――+――――+――――|\n",
      "| 9  | -6 | -2 |\n",
      "+――――――――――――――+\n",
      "-8\n",
      "8\n",
      "-6\n",
      "-6\n",
      "-2\n"
     ]
    }
   ],
   "source": [
    "# Advanced Usage\n",
    "m = randint_matrix(3, 3, range(-9, 10))\n",
    "print(m)\n",
    "m_iter = iter(m)\n",
    "print(next(m_iter))  # returns [1, 1]\n",
    "print(m_iter.send(2))  # returns [2, 1]\n",
    "print(next(m_iter))  # returns [2, 2]\n",
    "print(m_iter.send((3, 2)))  # returns [3, 2]\n",
    "print(next(m_iter))  # returns [3, 3]"
   ]
  },
  {
   "cell_type": "markdown",
   "id": "fancy-taiwan",
   "metadata": {},
   "source": [
    "## Per-element rounding"
   ]
  },
  {
   "cell_type": "code",
   "execution_count": 18,
   "id": "suffering-horizontal",
   "metadata": {},
   "outputs": [
    {
     "name": "stdout",
     "output_type": "stream",
     "text": [
      "+――――――――+\n",
      "| 9  | 7 |\n",
      "|――――+―――|\n",
      "| -4 | 1 |\n",
      "+――――――――+\n",
      "+――――――――――――――――+\n",
      "| 9.461  | 6.691 |\n",
      "|――――――――+―――――――|\n",
      "| -4.315 | 1.411 |\n",
      "+――――――――――――――――+\n",
      "+――――――――――――――+\n",
      "| 9.46  | 6.69 |\n",
      "|―――――――+――――――|\n",
      "| -4.31 | 1.41 |\n",
      "+――――――――――――――+\n"
     ]
    }
   ],
   "source": [
    "m = random_matrix(2, 2, -10, 10)\n",
    "print(round(m))\n",
    "print(m)  # unmodified\n",
    "m.round(2)\n",
    "print(m)  # modified"
   ]
  }
 ],
 "metadata": {
  "kernelspec": {
   "display_name": "Python 3",
   "language": "python",
   "name": "python3"
  },
  "language_info": {
   "codemirror_mode": {
    "name": "ipython",
    "version": 3
   },
   "file_extension": ".py",
   "mimetype": "text/x-python",
   "name": "python",
   "nbconvert_exporter": "python",
   "pygments_lexer": "ipython3",
   "version": "3.8.6"
  }
 },
 "nbformat": 4,
 "nbformat_minor": 5
}
