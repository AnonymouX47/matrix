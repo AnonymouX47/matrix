{
 "cells": [
  {
   "cell_type": "markdown",
   "id": "arranged-congress",
   "metadata": {},
   "source": [
    "# Matrix views"
   ]
  },
  {
   "cell_type": "code",
   "execution_count": 1,
   "id": "demonstrated-student",
   "metadata": {},
   "outputs": [],
   "source": [
    "from matrix import *"
   ]
  },
  {
   "cell_type": "markdown",
   "id": "neutral-knight",
   "metadata": {},
   "source": [
    "## `Rows`, `Columns` `RowsSlice`, `ColumnsSlice` instances."
   ]
  },
  {
   "cell_type": "code",
   "execution_count": 2,
   "id": "celtic-heart",
   "metadata": {},
   "outputs": [
    {
     "name": "stdout",
     "output_type": "stream",
     "text": [
      "+――――――――――――――――――+\n",
      "| 1  | -9 | -7 | 7 |\n",
      "|――――+――――+――――+―――|\n",
      "| -2 | -2 | 5  | 7 |\n",
      "|――――+――――+――――+―――|\n",
      "| -3 | 9  | -4 | 2 |\n",
      "|――――+――――+――――+―――|\n",
      "| -7 | -9 | -9 | 0 |\n",
      "+――――――――――――――――――+\n"
     ]
    }
   ],
   "source": [
    "m = randint_matrix(4, 4, range(-9, 10))\n",
    "print(m)"
   ]
  },
  {
   "cell_type": "code",
   "execution_count": 3,
   "id": "efficient-milwaukee",
   "metadata": {},
   "outputs": [
    {
     "name": "stdout",
     "output_type": "stream",
     "text": [
      "<class 'matrix.components.rows.Rows'>\n"
     ]
    },
    {
     "data": {
      "text/plain": [
       "<Rows of <4x4 Matrix at 0x7fb7b9258e50>>"
      ]
     },
     "execution_count": 3,
     "metadata": {},
     "output_type": "execute_result"
    }
   ],
   "source": [
    "print(type(m.rows))\n",
    "m.rows"
   ]
  },
  {
   "cell_type": "code",
   "execution_count": 4,
   "id": "infrared-karen",
   "metadata": {},
   "outputs": [
    {
     "name": "stdout",
     "output_type": "stream",
     "text": [
      "<class 'matrix.components.columns.Columns'>\n"
     ]
    },
    {
     "data": {
      "text/plain": [
       "<Columns of <4x4 Matrix at 0x7fb7b9258e50>>"
      ]
     },
     "execution_count": 4,
     "metadata": {},
     "output_type": "execute_result"
    }
   ],
   "source": [
    "print(type(m.columns))\n",
    "m.columns"
   ]
  },
  {
   "cell_type": "code",
   "execution_count": 5,
   "id": "precise-throw",
   "metadata": {},
   "outputs": [
    {
     "name": "stdout",
     "output_type": "stream",
     "text": [
      "<class 'matrix.components.rows.RowsSlice'>\n"
     ]
    },
    {
     "data": {
      "text/plain": [
       "<Rows [1:4] of <4x4 Matrix at 0x7fb7b9258e50>>"
      ]
     },
     "execution_count": 5,
     "metadata": {},
     "output_type": "execute_result"
    }
   ],
   "source": [
    "print(type(m.rows[:]))\n",
    "m.rows[:]"
   ]
  },
  {
   "cell_type": "code",
   "execution_count": 6,
   "id": "continent-packet",
   "metadata": {},
   "outputs": [
    {
     "name": "stdout",
     "output_type": "stream",
     "text": [
      "<class 'matrix.components.columns.ColumnsSlice'>\n"
     ]
    },
    {
     "data": {
      "text/plain": [
       "<Columns [1:4:2] of <4x4 Matrix at 0x7fb7b9258e50>>"
      ]
     },
     "execution_count": 6,
     "metadata": {},
     "output_type": "execute_result"
    }
   ],
   "source": [
    "print(type(m.columns[:]))\n",
    "m.columns[::2]"
   ]
  },
  {
   "cell_type": "markdown",
   "id": "olympic-absolute",
   "metadata": {},
   "source": [
    "### Subscription"
   ]
  },
  {
   "cell_type": "code",
   "execution_count": 7,
   "id": "large-ireland",
   "metadata": {},
   "outputs": [
    {
     "name": "stdout",
     "output_type": "stream",
     "text": [
      "Row([Element('-2'), Element('-2'), Element('5'), Element('7')])\n"
     ]
    },
    {
     "data": {
      "text/plain": [
       "<Row 2 of <4x4 Matrix at 0x7fb7b9258e50>>"
      ]
     },
     "execution_count": 7,
     "metadata": {},
     "output_type": "execute_result"
    }
   ],
   "source": [
    "# Single row\n",
    "print(m.rows[2])\n",
    "m.rows[2]"
   ]
  },
  {
   "cell_type": "code",
   "execution_count": 8,
   "id": "delayed-skating",
   "metadata": {},
   "outputs": [
    {
     "name": "stdout",
     "output_type": "stream",
     "text": [
      "Row([Element('-3'), Element('9'), Element('-4'), Element('2')])\n"
     ]
    },
    {
     "data": {
      "text/plain": [
       "<Row 4 of <4x4 Matrix at 0x7fb7b9258e50>>"
      ]
     },
     "execution_count": 8,
     "metadata": {},
     "output_type": "execute_result"
    }
   ],
   "source": [
    "# Single row from a slice.\n",
    "print(m.rows[::2][2])\n",
    "m.rows[2::2][2]"
   ]
  },
  {
   "cell_type": "code",
   "execution_count": 9,
   "id": "roman-repeat",
   "metadata": {},
   "outputs": [
    {
     "name": "stdout",
     "output_type": "stream",
     "text": [
      "<Columns [1:10:2] of <10x10 Matrix at 0x7fb7b8170e00>>\n",
      "<Columns [1:9:4] of <10x10 Matrix at 0x7fb7b8170e00>>\n",
      "<Column 3 of <10x10 Matrix at 0x7fb7b8170e00>>\n",
      "<Column 5 of <10x10 Matrix at 0x7fb7b8170e00>>\n",
      "<Rows [5:9:4] of <10x10 Matrix at 0x7fb7b8170e00>>\n"
     ]
    }
   ],
   "source": [
    "# slice of a slice\n",
    "m = randint_matrix(10, 10, range(-9, 10))\n",
    "slice1 = m.columns[::2]\n",
    "print(slice1)\n",
    "slice2 = slice1[::2]\n",
    "print(slice2)\n",
    "print(repr(slice1[2]))\n",
    "print(repr(slice2[2]))\n",
    "print(m.rows[::2][::2][2:])"
   ]
  },
  {
   "cell_type": "markdown",
   "id": "described-manor",
   "metadata": {},
   "source": [
    "### Row/Column Assignment"
   ]
  },
  {
   "cell_type": "code",
   "execution_count": 10,
   "id": "filled-british",
   "metadata": {},
   "outputs": [
    {
     "name": "stdout",
     "output_type": "stream",
     "text": [
      "+――――――――――――――――――+\n",
      "| 1  | -2 | -7 | 5 |\n",
      "|――――+――――+――――+―――|\n",
      "| 2  | -4 | 1  | 4 |\n",
      "|――――+――――+――――+―――|\n",
      "| -4 | -2 | -4 | 3 |\n",
      "|――――+――――+――――+―――|\n",
      "| 0  | 9  | -2 | 5 |\n",
      "+――――――――――――――――――+\n"
     ]
    }
   ],
   "source": [
    "m = randint_matrix(4, 4, range(-9, 10))\n",
    "print(m)"
   ]
  },
  {
   "cell_type": "code",
   "execution_count": 11,
   "id": "widespread-transsexual",
   "metadata": {},
   "outputs": [
    {
     "name": "stdout",
     "output_type": "stream",
     "text": [
      "+――――――――――――――――――+\n",
      "| 1  | -2 | -7 | 5 |\n",
      "|――――+――――+――――+―――|\n",
      "| 1  | -2 | -7 | 5 |\n",
      "|――――+――――+――――+―――|\n",
      "| -4 | -2 | -4 | 3 |\n",
      "|――――+――――+――――+―――|\n",
      "| 0  | 9  | -2 | 5 |\n",
      "+――――――――――――――――――+\n"
     ]
    }
   ],
   "source": [
    "m.rows[2] = m.rows[1]\n",
    "print(m)"
   ]
  },
  {
   "cell_type": "code",
   "execution_count": 12,
   "id": "colored-pakistan",
   "metadata": {},
   "outputs": [
    {
     "name": "stdout",
     "output_type": "stream",
     "text": [
      "+――――――――――――――――――+\n",
      "| 1  | -2 | -7 | 5 |\n",
      "|――――+――――+――――+―――|\n",
      "| 1  | -2 | -7 | 5 |\n",
      "|――――+――――+――――+―――|\n",
      "| -4 | -2 | -4 | 3 |\n",
      "|――――+――――+――――+―――|\n",
      "| 0  | 1  | 2  | 3 |\n",
      "+――――――――――――――――――+\n"
     ]
    }
   ],
   "source": [
    "# Any iterable of real numbers\n",
    "m.rows[4] = range(4)\n",
    "print(m)"
   ]
  },
  {
   "cell_type": "code",
   "execution_count": 13,
   "id": "stock-unknown",
   "metadata": {},
   "outputs": [
    {
     "name": "stdout",
     "output_type": "stream",
     "text": [
      "+――――――――――――――――――――+\n",
      "| 2  | -4 | -14 | 10 |\n",
      "|――――+――――+―――――+――――|\n",
      "| 1  | -2 | -7  | 5  |\n",
      "|――――+――――+―――――+――――|\n",
      "| -4 | -2 | -4  | 3  |\n",
      "|――――+――――+―――――+――――|\n",
      "| 0  | 1  |  2  | 3  |\n",
      "+――――――――――――――――――――+\n"
     ]
    }
   ],
   "source": [
    "m.rows[1] *= 2\n",
    "print(m)"
   ]
  },
  {
   "cell_type": "code",
   "execution_count": 14,
   "id": "hired-creation",
   "metadata": {},
   "outputs": [
    {
     "name": "stdout",
     "output_type": "stream",
     "text": [
      "+――――――――――――――――――――+\n",
      "| 2  | -4 | -14 | 10 |\n",
      "|――――+――――+―――――+――――|\n",
      "| 1  | -2 | -7  | 5  |\n",
      "|――――+――――+―――――+――――|\n",
      "| -8 | -4 | -6  | 4  |\n",
      "|――――+――――+―――――+――――|\n",
      "| 0  | 1  |  2  | 3  |\n",
      "+――――――――――――――――――――+\n"
     ]
    }
   ],
   "source": [
    "m.rows[3] += m.columns[2]\n",
    "print(m)"
   ]
  },
  {
   "cell_type": "markdown",
   "id": "lightweight-german",
   "metadata": {},
   "source": [
    "### Row/Column Deletion"
   ]
  },
  {
   "cell_type": "code",
   "execution_count": 15,
   "id": "constant-destruction",
   "metadata": {},
   "outputs": [
    {
     "name": "stdout",
     "output_type": "stream",
     "text": [
      "+―――――――――――――――――――+\n",
      "| -3 | -5 | -8 | 0  |\n",
      "|――――+――――+――――+――――|\n",
      "| -7 | 3  | 3  | -4 |\n",
      "|――――+――――+――――+――――|\n",
      "| -8 | -9 | -4 | 3  |\n",
      "|――――+――――+――――+――――|\n",
      "| 2  | 9  | -1 | -3 |\n",
      "+―――――――――――――――――――+\n"
     ]
    }
   ],
   "source": [
    "m = m = randint_matrix(4, 4, range(-9, 10))\n",
    "print(m)"
   ]
  },
  {
   "cell_type": "code",
   "execution_count": 16,
   "id": "appreciated-bench",
   "metadata": {},
   "outputs": [
    {
     "name": "stdout",
     "output_type": "stream",
     "text": [
      "+――――――――――――――+\n",
      "| -3 | -5 | 0  |\n",
      "|――――+――――+――――|\n",
      "| -7 | 3  | -4 |\n",
      "|――――+――――+――――|\n",
      "| 2  | 9  | -3 |\n",
      "+――――――――――――――+\n"
     ]
    }
   ],
   "source": [
    "del m.rows[3]\n",
    "del m.columns[3]\n",
    "print(m)"
   ]
  },
  {
   "cell_type": "code",
   "execution_count": 17,
   "id": "precious-psychology",
   "metadata": {},
   "outputs": [
    {
     "name": "stdout",
     "output_type": "stream",
     "text": [
      "+―――+\n",
      "| 0 |\n",
      "+―――+\n"
     ]
    }
   ],
   "source": [
    "del m.rows[2:]\n",
    "del m.columns[:2]\n",
    "print(m)"
   ]
  },
  {
   "cell_type": "code",
   "execution_count": 18,
   "id": "satisfied-mission",
   "metadata": {},
   "outputs": [
    {
     "ename": "InvalidDimension",
     "evalue": "Emptying the matrix isn't allowed.",
     "output_type": "error",
     "traceback": [
      "\u001b[0;31m---------------------------------------------------------------------------\u001b[0m",
      "\u001b[0;31mInvalidDimension\u001b[0m                          Traceback (most recent call last)",
      "\u001b[0;32m<ipython-input-18-64d5ca673469>\u001b[0m in \u001b[0;36m<module>\u001b[0;34m\u001b[0m\n\u001b[0;32m----> 1\u001b[0;31m \u001b[0;32mdel\u001b[0m \u001b[0mm\u001b[0m\u001b[0;34m.\u001b[0m\u001b[0mrows\u001b[0m\u001b[0;34m[\u001b[0m\u001b[0;34m:\u001b[0m\u001b[0;34m]\u001b[0m\u001b[0;34m\u001b[0m\u001b[0;34m\u001b[0m\u001b[0m\n\u001b[0m",
      "\u001b[0;32m~/My_Works/projects/matrix/matrix/components/rows.py\u001b[0m in \u001b[0;36m__delitem__\u001b[0;34m(self, sub)\u001b[0m\n\u001b[1;32m     80\u001b[0m             \u001b[0msub\u001b[0m \u001b[0;34m=\u001b[0m \u001b[0madjust_slice\u001b[0m\u001b[0;34m(\u001b[0m\u001b[0msub\u001b[0m\u001b[0;34m,\u001b[0m \u001b[0mself\u001b[0m\u001b[0;34m.\u001b[0m\u001b[0m__matrix\u001b[0m\u001b[0;34m.\u001b[0m\u001b[0mnrow\u001b[0m\u001b[0;34m)\u001b[0m\u001b[0;34m\u001b[0m\u001b[0;34m\u001b[0m\u001b[0m\n\u001b[1;32m     81\u001b[0m             \u001b[0;32mif\u001b[0m \u001b[0;34m(\u001b[0m\u001b[0mdiff\u001b[0m \u001b[0;34m:=\u001b[0m \u001b[0mslice_length\u001b[0m\u001b[0;34m(\u001b[0m\u001b[0msub\u001b[0m\u001b[0;34m)\u001b[0m\u001b[0;34m)\u001b[0m \u001b[0;34m==\u001b[0m \u001b[0mself\u001b[0m\u001b[0;34m.\u001b[0m\u001b[0m__matrix\u001b[0m\u001b[0;34m.\u001b[0m\u001b[0mnrow\u001b[0m\u001b[0;34m:\u001b[0m\u001b[0;34m\u001b[0m\u001b[0;34m\u001b[0m\u001b[0m\n\u001b[0;32m---> 82\u001b[0;31m                 \u001b[0;32mraise\u001b[0m \u001b[0mInvalidDimension\u001b[0m\u001b[0;34m(\u001b[0m\u001b[0;34m\"Emptying the matrix isn't allowed.\"\u001b[0m\u001b[0;34m)\u001b[0m\u001b[0;34m\u001b[0m\u001b[0;34m\u001b[0m\u001b[0m\n\u001b[0m\u001b[1;32m     83\u001b[0m             \u001b[0;32mdel\u001b[0m \u001b[0mself\u001b[0m\u001b[0;34m.\u001b[0m\u001b[0m__matrix\u001b[0m\u001b[0;34m.\u001b[0m\u001b[0m_array\u001b[0m\u001b[0;34m[\u001b[0m\u001b[0msub\u001b[0m\u001b[0;34m]\u001b[0m\u001b[0;34m\u001b[0m\u001b[0;34m\u001b[0m\u001b[0m\n\u001b[1;32m     84\u001b[0m             \u001b[0mself\u001b[0m\u001b[0;34m.\u001b[0m\u001b[0m__matrix\u001b[0m\u001b[0;34m.\u001b[0m\u001b[0m__nrow\u001b[0m \u001b[0;34m-=\u001b[0m \u001b[0mdiff\u001b[0m\u001b[0;34m\u001b[0m\u001b[0;34m\u001b[0m\u001b[0m\n",
      "\u001b[0;31mInvalidDimension\u001b[0m: Emptying the matrix isn't allowed."
     ]
    }
   ],
   "source": [
    "del m.rows[:]"
   ]
  },
  {
   "cell_type": "markdown",
   "id": "complicated-fetish",
   "metadata": {},
   "source": [
    "### Lenght"
   ]
  },
  {
   "cell_type": "code",
   "execution_count": 19,
   "id": "swiss-wilderness",
   "metadata": {},
   "outputs": [
    {
     "name": "stdout",
     "output_type": "stream",
     "text": [
      "10\n",
      "7\n",
      "10\n",
      "5\n"
     ]
    }
   ],
   "source": [
    "m = Matrix(10, 7)\n",
    "print(len(m.rows))\n",
    "print(len(m.columns))\n",
    "print(len(m.rows[:]))\n",
    "print(len(m.rows[::2]))"
   ]
  },
  {
   "cell_type": "markdown",
   "id": "velvet-volunteer",
   "metadata": {},
   "source": [
    "### Iteration"
   ]
  },
  {
   "cell_type": "code",
   "execution_count": 20,
   "id": "broadband-volume",
   "metadata": {},
   "outputs": [
    {
     "name": "stdout",
     "output_type": "stream",
     "text": [
      "+―――――――――――――――――――+\n",
      "| 4  | 8  | -5 | 8  |\n",
      "|――――+――――+――――+――――|\n",
      "| 5  | -9 | 0  | -5 |\n",
      "|――――+――――+――――+――――|\n",
      "| -6 | -8 | -9 | -6 |\n",
      "|――――+――――+――――+――――|\n",
      "| -4 | 6  | -6 | 8  |\n",
      "+―――――――――――――――――――+\n"
     ]
    }
   ],
   "source": [
    "m = randint_matrix(4, 4, range(-9, 10))\n",
    "print(m)"
   ]
  },
  {
   "cell_type": "code",
   "execution_count": 21,
   "id": "obvious-bible",
   "metadata": {},
   "outputs": [
    {
     "name": "stdout",
     "output_type": "stream",
     "text": [
      "[<Row 1 of <4x4 Matrix at 0x7fb7b8173270>>, <Row 2 of <4x4 Matrix at 0x7fb7b8173270>>, <Row 3 of <4x4 Matrix at 0x7fb7b8173270>>, <Row 4 of <4x4 Matrix at 0x7fb7b8173270>>]\n",
      "\n",
      "[<Column 1 of <4x4 Matrix at 0x7fb7b8173270>>, <Column 3 of <4x4 Matrix at 0x7fb7b8173270>>]\n"
     ]
    }
   ],
   "source": [
    "print(list(m.rows))\n",
    "print()\n",
    "print(list(m.columns[::2]))"
   ]
  },
  {
   "cell_type": "code",
   "execution_count": 22,
   "id": "fifty-keeping",
   "metadata": {},
   "outputs": [
    {
     "name": "stdout",
     "output_type": "stream",
     "text": [
      "Column([Element('4'), Element('5'), Element('-6'), Element('-4')])\n",
      "Column([Element('8'), Element('-9'), Element('-8'), Element('6')])\n",
      "Column([Element('-5'), Element('0'), Element('-9'), Element('-6')])\n",
      "Column([Element('8'), Element('-5'), Element('-6'), Element('8')])\n"
     ]
    }
   ],
   "source": [
    "for col in m.columns:\n",
    "    print(col)"
   ]
  },
  {
   "cell_type": "code",
   "execution_count": 23,
   "id": "violent-idaho",
   "metadata": {},
   "outputs": [
    {
     "name": "stdout",
     "output_type": "stream",
     "text": [
      "Row([Element('5'), Element('-9'), Element('0'), Element('-5')])\n",
      "Row([Element('-4'), Element('6'), Element('-6'), Element('8')])\n"
     ]
    }
   ],
   "source": [
    "for row in m.rows[2::2]:\n",
    "    print(row)"
   ]
  }
 ],
 "metadata": {
  "kernelspec": {
   "display_name": "Python 3",
   "language": "python",
   "name": "python3"
  },
  "language_info": {
   "codemirror_mode": {
    "name": "ipython",
    "version": 3
   },
   "file_extension": ".py",
   "mimetype": "text/x-python",
   "name": "python",
   "nbconvert_exporter": "python",
   "pygments_lexer": "ipython3",
   "version": "3.8.6"
  }
 },
 "nbformat": 4,
 "nbformat_minor": 5
}
