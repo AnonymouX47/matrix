{
 "cells": [
  {
   "cell_type": "markdown",
   "id": "broad-isolation",
   "metadata": {},
   "source": [
    "# Solutions to systems of linear equations"
   ]
  },
  {
   "cell_type": "code",
   "execution_count": 1,
   "id": "registered-guitar",
   "metadata": {},
   "outputs": [],
   "source": [
    "from matrix import *"
   ]
  },
  {
   "cell_type": "code",
   "execution_count": 2,
   "id": "acting-inspection",
   "metadata": {},
   "outputs": [
    {
     "name": "stdout",
     "output_type": "stream",
     "text": [
      "+――――――――――――――+\n",
      "| -2 | 4  | -5 |\n",
      "|――――+――――+――――|\n",
      "| 9  | -6 | 5  |\n",
      "|――――+――――+――――|\n",
      "| -6 | -4 | 2  |\n",
      "+――――――――――――――+\n",
      "+――――+\n",
      "| 6  |\n",
      "|――――|\n",
      "| 2  |\n",
      "|――――|\n",
      "| -2 |\n",
      "+――――+\n"
     ]
    }
   ],
   "source": [
    "A = randint_matrix(3, 3, range(-9, 10))\n",
    "b = randint_matrix(3, 1, range(-9, 10))\n",
    "print(A)\n",
    "print(b)"
   ]
  },
  {
   "cell_type": "markdown",
   "id": "hawaiian-tower",
   "metadata": {},
   "source": [
    "### Using the convinience function"
   ]
  },
  {
   "cell_type": "code",
   "execution_count": 3,
   "id": "accessory-supply",
   "metadata": {},
   "outputs": [
    {
     "name": "stdout",
     "output_type": "stream",
     "text": [
      "<class 'tuple'>\n",
      "Solution: 0.6052631578947368421052631605, -1.881578947368421052631578948, -2.947368421052631578947368422\n"
     ]
    }
   ],
   "source": [
    "x = solve_linear_system(A, b)\n",
    "print(type(x))\n",
    "print(\"Solution: \", end='')\n",
    "print(*x, sep=', ')"
   ]
  },
  {
   "cell_type": "markdown",
   "id": "controlling-slovakia",
   "metadata": {},
   "source": [
    "### Using the Inverse Method"
   ]
  },
  {
   "cell_type": "code",
   "execution_count": 4,
   "id": "entitled-palestine",
   "metadata": {},
   "outputs": [
    {
     "name": "stdout",
     "output_type": "stream",
     "text": [
      "+――――――――――――――――――――――――――+\n",
      "| 0.6053 | -1.882 | -2.947 |\n",
      "+――――――――――――――――――――――――――+\n"
     ]
    }
   ],
   "source": [
    "x = ~A @ b\n",
    "print(x.transposed())"
   ]
  }
 ],
 "metadata": {
  "kernelspec": {
   "display_name": "Python 3",
   "language": "python",
   "name": "python3"
  },
  "language_info": {
   "codemirror_mode": {
    "name": "ipython",
    "version": 3
   },
   "file_extension": ".py",
   "mimetype": "text/x-python",
   "name": "python",
   "nbconvert_exporter": "python",
   "pygments_lexer": "ipython3",
   "version": "3.8.6"
  }
 },
 "nbformat": 4,
 "nbformat_minor": 5
}
