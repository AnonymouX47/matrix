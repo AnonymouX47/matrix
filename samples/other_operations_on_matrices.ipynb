{
 "cells": [
  {
   "cell_type": "markdown",
   "id": "champion-niger",
   "metadata": {},
   "source": [
    "# Other operations on matrices"
   ]
  },
  {
   "cell_type": "code",
   "execution_count": 1,
   "id": "nonprofit-commerce",
   "metadata": {},
   "outputs": [],
   "source": [
    "from matrix import *"
   ]
  },
  {
   "cell_type": "markdown",
   "id": "conditional-gnome",
   "metadata": {},
   "source": [
    "## Flipping"
   ]
  },
  {
   "cell_type": "code",
   "execution_count": 2,
   "id": "immediate-torture",
   "metadata": {},
   "outputs": [
    {
     "name": "stdout",
     "output_type": "stream",
     "text": [
      "――――――――――――――――――――\n",
      "| 0  | 5 | -3 | -1 |\n",
      "――――――――――――――――――――\n",
      "| -8 | 5 | 1  | -4 |\n",
      "――――――――――――――――――――\n",
      "| -8 | 3 | -7 | 9  |\n",
      "――――――――――――――――――――\n",
      "――――――――――――――――――――\n",
      "| -1 | -3 | 5 | 0  |\n",
      "――――――――――――――――――――\n",
      "| -4 | 1  | 5 | -8 |\n",
      "――――――――――――――――――――\n",
      "| 9  | -7 | 3 | -8 |\n",
      "――――――――――――――――――――\n",
      "――――――――――――――――――――\n",
      "| 9  | -7 | 3 | -8 |\n",
      "――――――――――――――――――――\n",
      "| -4 | 1  | 5 | -8 |\n",
      "――――――――――――――――――――\n",
      "| -1 | -3 | 5 | 0  |\n",
      "――――――――――――――――――――\n"
     ]
    }
   ],
   "source": [
    "m = randint_matrix(3, 4, range(-9, 10))\n",
    "print(m)\n",
    "m.flip_x()\n",
    "print(m)\n",
    "m.flip_y()\n",
    "print(m)"
   ]
  },
  {
   "cell_type": "markdown",
   "id": "turkish-powell",
   "metadata": {},
   "source": [
    "## Rotation"
   ]
  },
  {
   "cell_type": "code",
   "execution_count": 3,
   "id": "complicated-cookbook",
   "metadata": {},
   "outputs": [
    {
     "name": "stdout",
     "output_type": "stream",
     "text": [
      "―――――――――――――――――――――\n",
      "| -8 | 9  | 6  | 9  |\n",
      "―――――――――――――――――――――\n",
      "| 7  | -9 | -9 | -5 |\n",
      "―――――――――――――――――――――\n",
      "| -2 | -7 | 5  | 4  |\n",
      "―――――――――――――――――――――\n",
      "――――――――――――――――\n",
      "| 9  | -5 | 4  |\n",
      "――――――――――――――――\n",
      "| 6  | -9 | 5  |\n",
      "――――――――――――――――\n",
      "| 9  | -9 | -7 |\n",
      "――――――――――――――――\n",
      "| -8 | 7  | -2 |\n",
      "――――――――――――――――\n",
      "―――――――――――――――――――――\n",
      "| -8 | 9  | 6  | 9  |\n",
      "―――――――――――――――――――――\n",
      "| 7  | -9 | -9 | -5 |\n",
      "―――――――――――――――――――――\n",
      "| -2 | -7 | 5  | 4  |\n",
      "―――――――――――――――――――――\n"
     ]
    }
   ],
   "source": [
    "m = randint_matrix(3, 4, range(-9, 10))\n",
    "print(m)\n",
    "m.rotate_left()\n",
    "print(m)\n",
    "m.rotate_right()\n",
    "print(m)"
   ]
  },
  {
   "cell_type": "markdown",
   "id": "fleet-tolerance",
   "metadata": {},
   "source": [
    "## Copying a matrix"
   ]
  },
  {
   "cell_type": "code",
   "execution_count": 4,
   "id": "proprietary-flesh",
   "metadata": {},
   "outputs": [
    {
     "name": "stdout",
     "output_type": "stream",
     "text": [
      "――――――――――――――――\n",
      "| -5 | -3 | 3  |\n",
      "――――――――――――――――\n",
      "| 7  | 0  | -9 |\n",
      "――――――――――――――――\n",
      "| 9  | -3 | -6 |\n",
      "――――――――――――――――\n",
      "139889909742304\n"
     ]
    }
   ],
   "source": [
    "m = randint_matrix(3, 3, range(-9, 10))\n",
    "print(m)\n",
    "print(id(m))"
   ]
  },
  {
   "cell_type": "code",
   "execution_count": 5,
   "id": "faced-portrait",
   "metadata": {},
   "outputs": [
    {
     "name": "stdout",
     "output_type": "stream",
     "text": [
      "――――――――――――――――\n",
      "| -5 | -3 | 3  |\n",
      "――――――――――――――――\n",
      "| 7  | 0  | -9 |\n",
      "――――――――――――――――\n",
      "| 9  | -3 | -6 |\n",
      "――――――――――――――――\n",
      "139889909741904\n"
     ]
    }
   ],
   "source": [
    "m2 = m.copy()\n",
    "print(m2)\n",
    "print(id(m2))"
   ]
  },
  {
   "cell_type": "code",
   "execution_count": 6,
   "id": "historic-correlation",
   "metadata": {},
   "outputs": [
    {
     "name": "stdout",
     "output_type": "stream",
     "text": [
      "――――――――――――――――――\n",
      "| 1000 | -3 | 3  |\n",
      "――――――――――――――――――\n",
      "|  7   | 0  | -9 |\n",
      "――――――――――――――――――\n",
      "|  9   | -3 | -6 |\n",
      "――――――――――――――――――\n",
      "――――――――――――――――\n",
      "| -5 | -3 | 3  |\n",
      "――――――――――――――――\n",
      "| 7  | 0  | -9 |\n",
      "――――――――――――――――\n",
      "| 9  | -3 | -6 |\n",
      "――――――――――――――――\n"
     ]
    }
   ],
   "source": [
    "m2[1, 1] = 1000\n",
    "print(m2)\n",
    "print(m)"
   ]
  },
  {
   "cell_type": "code",
   "execution_count": 7,
   "id": "otherwise-cartridge",
   "metadata": {},
   "outputs": [
    {
     "name": "stdout",
     "output_type": "stream",
     "text": [
      "True\n",
      "False\n"
     ]
    }
   ],
   "source": [
    "m3 = m\n",
    "print(m3 is m)\n",
    "print(m2 is m)"
   ]
  },
  {
   "cell_type": "markdown",
   "id": "driven-november",
   "metadata": {},
   "source": [
    "## Resizing a matrix"
   ]
  },
  {
   "cell_type": "code",
   "execution_count": 8,
   "id": "continued-hygiene",
   "metadata": {},
   "outputs": [
    {
     "name": "stdout",
     "output_type": "stream",
     "text": [
      "――――――――――――――――――――\n",
      "| -4 | -2 | 2 | -8 |\n",
      "――――――――――――――――――――\n",
      "| 6  | -1 | 6 | 9  |\n",
      "――――――――――――――――――――\n",
      "| 3  | -1 | 3 | -7 |\n",
      "――――――――――――――――――――\n"
     ]
    }
   ],
   "source": [
    "m = randint_matrix(3, 4, range(-9, 10))\n",
    "print(m)"
   ]
  },
  {
   "cell_type": "code",
   "execution_count": 9,
   "id": "adult-origin",
   "metadata": {},
   "outputs": [
    {
     "name": "stdout",
     "output_type": "stream",
     "text": [
      "―――――――――――――――\n",
      "| -4 | -2 | 2 |\n",
      "―――――――――――――――\n",
      "| 6  | -1 | 6 |\n",
      "―――――――――――――――\n",
      "| 3  | -1 | 3 |\n",
      "―――――――――――――――\n"
     ]
    }
   ],
   "source": [
    "m.resize(3, 3)\n",
    "print(m)"
   ]
  },
  {
   "cell_type": "code",
   "execution_count": 10,
   "id": "sublime-departure",
   "metadata": {},
   "outputs": [
    {
     "name": "stdout",
     "output_type": "stream",
     "text": [
      "―――――――――――――――――――\n",
      "| -4 | -2 | 2 | 0 |\n",
      "―――――――――――――――――――\n",
      "| 6  | -1 | 6 | 0 |\n",
      "―――――――――――――――――――\n",
      "| 3  | -1 | 3 | 0 |\n",
      "―――――――――――――――――――\n"
     ]
    }
   ],
   "source": [
    "m.resize(ncol=4)\n",
    "print(m)"
   ]
  },
  {
   "cell_type": "code",
   "execution_count": 11,
   "id": "dental-piece",
   "metadata": {},
   "outputs": [
    {
     "name": "stdout",
     "output_type": "stream",
     "text": [
      "―――――――――――――――――――\n",
      "| -4 | -2 | 2 | 0 |\n",
      "―――――――――――――――――――\n",
      "| 6  | -1 | 6 | 0 |\n",
      "―――――――――――――――――――\n",
      "| 3  | -1 | 3 | 0 |\n",
      "―――――――――――――――――――\n",
      "| 0  | 0  | 0 | 0 |\n",
      "―――――――――――――――――――\n"
     ]
    }
   ],
   "source": [
    "m.resize(nrow=4)\n",
    "print(m)"
   ]
  },
  {
   "cell_type": "markdown",
   "id": "enabling-czech",
   "metadata": {},
   "source": [
    "## Rounded Comparison"
   ]
  },
  {
   "cell_type": "code",
   "execution_count": 12,
   "id": "drawn-wells",
   "metadata": {},
   "outputs": [
    {
     "name": "stdout",
     "output_type": "stream",
     "text": [
      "―――――――――――――――――――――――――――\n",
      "| -8.534 | 1.246 | 3.043  |\n",
      "―――――――――――――――――――――――――――\n",
      "| -3.605 | 5.78  | -9.312 |\n",
      "―――――――――――――――――――――――――――\n",
      "| 4.262  | 1.288 | -8.411 |\n",
      "―――――――――――――――――――――――――――\n"
     ]
    }
   ],
   "source": [
    "m1 = random_matrix(3, 3, -10, 10)\n",
    "print(m1)"
   ]
  },
  {
   "cell_type": "code",
   "execution_count": 13,
   "id": "quiet-finger",
   "metadata": {},
   "outputs": [
    {
     "name": "stdout",
     "output_type": "stream",
     "text": [
      "―――――――――――――――――――――――――――\n",
      "| -8.534 | 1.246 | 3.043  |\n",
      "―――――――――――――――――――――――――――\n",
      "| -3.605 | 5.78  | -9.312 |\n",
      "―――――――――――――――――――――――――――\n",
      "| 4.262  | 1.288 | -8.411 |\n",
      "―――――――――――――――――――――――――――\n"
     ]
    }
   ],
   "source": [
    "m2 = ~~m1\n",
    "print(m2)"
   ]
  },
  {
   "cell_type": "code",
   "execution_count": 14,
   "id": "martial-preliminary",
   "metadata": {},
   "outputs": [
    {
     "data": {
      "text/plain": [
       "False"
      ]
     },
     "execution_count": 14,
     "metadata": {},
     "output_type": "execute_result"
    }
   ],
   "source": [
    "m1 == m2"
   ]
  },
  {
   "cell_type": "code",
   "execution_count": 15,
   "id": "smart-roommate",
   "metadata": {},
   "outputs": [
    {
     "data": {
      "text/plain": [
       "True"
      ]
     },
     "execution_count": 15,
     "metadata": {},
     "output_type": "execute_result"
    }
   ],
   "source": [
    "Matrix.compare_rounded(m1, m2, 20)"
   ]
  }
 ],
 "metadata": {
  "kernelspec": {
   "display_name": "Python 3",
   "language": "python",
   "name": "python3"
  },
  "language_info": {
   "codemirror_mode": {
    "name": "ipython",
    "version": 3
   },
   "file_extension": ".py",
   "mimetype": "text/x-python",
   "name": "python",
   "nbconvert_exporter": "python",
   "pygments_lexer": "ipython3",
   "version": "3.8.6"
  }
 },
 "nbformat": 4,
 "nbformat_minor": 5
}
