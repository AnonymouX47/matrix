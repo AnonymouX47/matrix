{
 "cells": [
  {
   "cell_type": "markdown",
   "id": "champion-niger",
   "metadata": {},
   "source": [
    "# Other operations on matrices"
   ]
  },
  {
   "cell_type": "code",
   "execution_count": 1,
   "id": "nonprofit-commerce",
   "metadata": {},
   "outputs": [],
   "source": [
    "from matrix import *"
   ]
  },
  {
   "cell_type": "markdown",
   "id": "conditional-gnome",
   "metadata": {},
   "source": [
    "## Flipping"
   ]
  },
  {
   "cell_type": "code",
   "execution_count": 2,
   "id": "immediate-torture",
   "metadata": {},
   "outputs": [
    {
     "name": "stdout",
     "output_type": "stream",
     "text": [
      "+―――――――――――――――――――+\n",
      "| 7  | 9  | 7  | 8  |\n",
      "|――――+――――+――――+――――|\n",
      "| 0  | -8 | -5 | -4 |\n",
      "|――――+――――+――――+――――|\n",
      "| -2 | -7 | 0  | 9  |\n",
      "+―――――――――――――――――――+\n",
      "+―――――――――――――――――――+\n",
      "| 8  | 7  | 9  | 7  |\n",
      "|――――+――――+――――+――――|\n",
      "| -4 | -5 | -8 | 0  |\n",
      "|――――+――――+――――+――――|\n",
      "| 9  | 0  | -7 | -2 |\n",
      "+―――――――――――――――――――+\n",
      "+―――――――――――――――――――+\n",
      "| 9  | 0  | -7 | -2 |\n",
      "|――――+――――+――――+――――|\n",
      "| -4 | -5 | -8 | 0  |\n",
      "|――――+――――+――――+――――|\n",
      "| 8  | 7  | 9  | 7  |\n",
      "+―――――――――――――――――――+\n"
     ]
    }
   ],
   "source": [
    "m = randint_matrix(3, 4, range(-9, 10))\n",
    "print(m)\n",
    "m.flip_x()\n",
    "print(m)\n",
    "m.flip_y()\n",
    "print(m)"
   ]
  },
  {
   "cell_type": "markdown",
   "id": "turkish-powell",
   "metadata": {},
   "source": [
    "## Rotation"
   ]
  },
  {
   "cell_type": "code",
   "execution_count": 3,
   "id": "complicated-cookbook",
   "metadata": {},
   "outputs": [
    {
     "name": "stdout",
     "output_type": "stream",
     "text": [
      "+―――――――――――――――――+\n",
      "| 7 | 2 | -3 | -5 |\n",
      "|―――+―――+――――+――――|\n",
      "| 5 | 7 | -4 | -6 |\n",
      "|―――+―――+――――+――――|\n",
      "| 5 | 4 | -6 | 6  |\n",
      "+―――――――――――――――――+\n",
      "+――――――――――――――+\n",
      "| -5 | -6 | 6  |\n",
      "|――――+――――+――――|\n",
      "| -3 | -4 | -6 |\n",
      "|――――+――――+――――|\n",
      "| 2  | 7  | 4  |\n",
      "|――――+――――+――――|\n",
      "| 7  | 5  | 5  |\n",
      "+――――――――――――――+\n",
      "+―――――――――――――――――+\n",
      "| 7 | 2 | -3 | -5 |\n",
      "|―――+―――+――――+――――|\n",
      "| 5 | 7 | -4 | -6 |\n",
      "|―――+―――+――――+――――|\n",
      "| 5 | 4 | -6 | 6  |\n",
      "+―――――――――――――――――+\n"
     ]
    }
   ],
   "source": [
    "m = randint_matrix(3, 4, range(-9, 10))\n",
    "print(m)\n",
    "m.rotate_left()\n",
    "print(m)\n",
    "m.rotate_right()\n",
    "print(m)"
   ]
  },
  {
   "cell_type": "markdown",
   "id": "fleet-tolerance",
   "metadata": {},
   "source": [
    "## Copying a matrix"
   ]
  },
  {
   "cell_type": "code",
   "execution_count": 4,
   "id": "proprietary-flesh",
   "metadata": {},
   "outputs": [
    {
     "name": "stdout",
     "output_type": "stream",
     "text": [
      "+――――――――――――+\n",
      "| 1 | 7 | 6  |\n",
      "|―――+―――+――――|\n",
      "| 9 | 7 | -5 |\n",
      "|―――+―――+――――|\n",
      "| 2 | 5 | 6  |\n",
      "+――――――――――――+\n",
      "140502547982592\n"
     ]
    }
   ],
   "source": [
    "m = randint_matrix(3, 3, range(-9, 10))\n",
    "print(m)\n",
    "print(id(m))"
   ]
  },
  {
   "cell_type": "code",
   "execution_count": 5,
   "id": "faced-portrait",
   "metadata": {},
   "outputs": [
    {
     "name": "stdout",
     "output_type": "stream",
     "text": [
      "+――――――――――――+\n",
      "| 1 | 7 | 6  |\n",
      "|―――+―――+――――|\n",
      "| 9 | 7 | -5 |\n",
      "|―――+―――+――――|\n",
      "| 2 | 5 | 6  |\n",
      "+――――――――――――+\n",
      "140502547980832\n"
     ]
    }
   ],
   "source": [
    "m2 = m.copy()\n",
    "print(m2)\n",
    "print(id(m2))"
   ]
  },
  {
   "cell_type": "code",
   "execution_count": 6,
   "id": "historic-correlation",
   "metadata": {},
   "outputs": [
    {
     "name": "stdout",
     "output_type": "stream",
     "text": [
      "+―――――――――――――――+\n",
      "| 1000 | 7 | 6  |\n",
      "|――――――+―――+――――|\n",
      "|  9   | 7 | -5 |\n",
      "|――――――+―――+――――|\n",
      "|  2   | 5 | 6  |\n",
      "+―――――――――――――――+\n",
      "+――――――――――――+\n",
      "| 1 | 7 | 6  |\n",
      "|―――+―――+――――|\n",
      "| 9 | 7 | -5 |\n",
      "|―――+―――+――――|\n",
      "| 2 | 5 | 6  |\n",
      "+――――――――――――+\n"
     ]
    }
   ],
   "source": [
    "m2[1, 1] = 1000\n",
    "print(m2)\n",
    "print(m)"
   ]
  },
  {
   "cell_type": "code",
   "execution_count": 7,
   "id": "otherwise-cartridge",
   "metadata": {},
   "outputs": [
    {
     "name": "stdout",
     "output_type": "stream",
     "text": [
      "True\n",
      "False\n"
     ]
    }
   ],
   "source": [
    "m3 = m\n",
    "print(m3 is m)\n",
    "print(m2 is m)"
   ]
  },
  {
   "cell_type": "markdown",
   "id": "driven-november",
   "metadata": {},
   "source": [
    "## Resizing a matrix"
   ]
  },
  {
   "cell_type": "code",
   "execution_count": 8,
   "id": "continued-hygiene",
   "metadata": {},
   "outputs": [
    {
     "name": "stdout",
     "output_type": "stream",
     "text": [
      "+――――――――――――――――――+\n",
      "| 1  | 1 | -3 | 9  |\n",
      "|――――+―――+――――+――――|\n",
      "| 7  | 2 | 3  | 3  |\n",
      "|――――+―――+――――+――――|\n",
      "| -4 | 7 | 7  | -6 |\n",
      "+――――――――――――――――――+\n"
     ]
    }
   ],
   "source": [
    "m = randint_matrix(3, 4, range(-9, 10))\n",
    "print(m)"
   ]
  },
  {
   "cell_type": "code",
   "execution_count": 9,
   "id": "adult-origin",
   "metadata": {},
   "outputs": [
    {
     "name": "stdout",
     "output_type": "stream",
     "text": [
      "+―――――――――――――+\n",
      "| 1  | 1 | -3 |\n",
      "|――――+―――+――――|\n",
      "| 7  | 2 | 3  |\n",
      "|――――+―――+――――|\n",
      "| -4 | 7 | 7  |\n",
      "+―――――――――――――+\n"
     ]
    }
   ],
   "source": [
    "m.resize(3, 3)\n",
    "print(m)"
   ]
  },
  {
   "cell_type": "code",
   "execution_count": 10,
   "id": "sublime-departure",
   "metadata": {},
   "outputs": [
    {
     "name": "stdout",
     "output_type": "stream",
     "text": [
      "+―――――――――――――――――+\n",
      "| 1  | 1 | -3 | 0 |\n",
      "|――――+―――+――――+―――|\n",
      "| 7  | 2 | 3  | 0 |\n",
      "|――――+―――+――――+―――|\n",
      "| -4 | 7 | 7  | 0 |\n",
      "+―――――――――――――――――+\n"
     ]
    }
   ],
   "source": [
    "m.resize(ncol=4)\n",
    "print(m)"
   ]
  },
  {
   "cell_type": "code",
   "execution_count": 11,
   "id": "dental-piece",
   "metadata": {},
   "outputs": [
    {
     "name": "stdout",
     "output_type": "stream",
     "text": [
      "+―――――――――――――――――+\n",
      "| 1  | 1 | -3 | 0 |\n",
      "|――――+―――+――――+―――|\n",
      "| 7  | 2 | 3  | 0 |\n",
      "|――――+―――+――――+―――|\n",
      "| -4 | 7 | 7  | 0 |\n",
      "|――――+―――+――――+―――|\n",
      "| 0  | 0 | 0  | 0 |\n",
      "+―――――――――――――――――+\n"
     ]
    }
   ],
   "source": [
    "m.resize(nrow=4)\n",
    "print(m)"
   ]
  },
  {
   "cell_type": "markdown",
   "id": "enabling-czech",
   "metadata": {},
   "source": [
    "## Rounded Comparison"
   ]
  },
  {
   "cell_type": "code",
   "execution_count": 12,
   "id": "drawn-wells",
   "metadata": {},
   "outputs": [
    {
     "name": "stdout",
     "output_type": "stream",
     "text": [
      "+―――――――――――――――――――――――――+\n",
      "| 6.662 | -1.256 | -9.279 |\n",
      "|―――――――+――――――――+――――――――|\n",
      "|  5.9  | -6.276 | -9.502 |\n",
      "|―――――――+――――――――+――――――――|\n",
      "| -5.66 | -3.573 | 4.068  |\n",
      "+―――――――――――――――――――――――――+\n"
     ]
    }
   ],
   "source": [
    "m1 = random_matrix(3, 3, -10, 10)\n",
    "print(m1)"
   ]
  },
  {
   "cell_type": "code",
   "execution_count": 13,
   "id": "quiet-finger",
   "metadata": {},
   "outputs": [
    {
     "name": "stdout",
     "output_type": "stream",
     "text": [
      "+―――――――――――――――――――――――――+\n",
      "| 6.662 | -1.256 | -9.279 |\n",
      "|―――――――+――――――――+――――――――|\n",
      "|  5.9  | -6.276 | -9.502 |\n",
      "|―――――――+――――――――+――――――――|\n",
      "| -5.66 | -3.573 | 4.068  |\n",
      "+―――――――――――――――――――――――――+\n"
     ]
    }
   ],
   "source": [
    "m2 = ~~m1\n",
    "print(m2)"
   ]
  },
  {
   "cell_type": "code",
   "execution_count": 14,
   "id": "martial-preliminary",
   "metadata": {},
   "outputs": [
    {
     "data": {
      "text/plain": [
       "False"
      ]
     },
     "execution_count": 14,
     "metadata": {},
     "output_type": "execute_result"
    }
   ],
   "source": [
    "m1 == m2"
   ]
  },
  {
   "cell_type": "code",
   "execution_count": 15,
   "id": "smart-roommate",
   "metadata": {},
   "outputs": [
    {
     "data": {
      "text/plain": [
       "True"
      ]
     },
     "execution_count": 15,
     "metadata": {},
     "output_type": "execute_result"
    }
   ],
   "source": [
    "Matrix.compare_rounded(m1, m2, 20)"
   ]
  }
 ],
 "metadata": {
  "kernelspec": {
   "display_name": "Python 3",
   "language": "python",
   "name": "python3"
  },
  "language_info": {
   "codemirror_mode": {
    "name": "ipython",
    "version": 3
   },
   "file_extension": ".py",
   "mimetype": "text/x-python",
   "name": "python",
   "nbconvert_exporter": "python",
   "pygments_lexer": "ipython3",
   "version": "3.8.6"
  }
 },
 "nbformat": 4,
 "nbformat_minor": 5
}
