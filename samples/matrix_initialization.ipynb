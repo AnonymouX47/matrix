{
 "cells": [
  {
   "cell_type": "markdown",
   "id": "portuguese-circulation",
   "metadata": {},
   "source": [
    "# Matrix Initialization"
   ]
  },
  {
   "cell_type": "code",
   "execution_count": 1,
   "id": "neural-concrete",
   "metadata": {},
   "outputs": [],
   "source": [
    "from matrix import *"
   ]
  },
  {
   "cell_type": "markdown",
   "id": "military-johnston",
   "metadata": {},
   "source": [
    "## Via the class constructor"
   ]
  },
  {
   "cell_type": "markdown",
   "id": "spectacular-father",
   "metadata": {},
   "source": [
    "### Given dimensions"
   ]
  },
  {
   "cell_type": "code",
   "execution_count": 2,
   "id": "refined-providence",
   "metadata": {},
   "outputs": [],
   "source": [
    "m = Matrix(3, 3)"
   ]
  },
  {
   "cell_type": "code",
   "execution_count": 3,
   "id": "faced-actor",
   "metadata": {},
   "outputs": [
    {
     "data": {
      "text/plain": [
       "matrix.Matrix"
      ]
     },
     "execution_count": 3,
     "metadata": {},
     "output_type": "execute_result"
    }
   ],
   "source": [
    "type(m)"
   ]
  },
  {
   "cell_type": "code",
   "execution_count": 4,
   "id": "tamil-spread",
   "metadata": {},
   "outputs": [
    {
     "data": {
      "text/plain": [
       "<3x3 Matrix at 0x7f983860da90>"
      ]
     },
     "execution_count": 4,
     "metadata": {},
     "output_type": "execute_result"
    }
   ],
   "source": [
    "m"
   ]
  },
  {
   "cell_type": "code",
   "execution_count": 5,
   "id": "computational-glass",
   "metadata": {},
   "outputs": [
    {
     "name": "stdout",
     "output_type": "stream",
     "text": [
      "+―――――――――――+\n",
      "| 0 | 0 | 0 |\n",
      "|―――+―――+―――|\n",
      "| 0 | 0 | 0 |\n",
      "|―――+―――+―――|\n",
      "| 0 | 0 | 0 |\n",
      "+―――――――――――+\n"
     ]
    }
   ],
   "source": [
    "print(m)"
   ]
  },
  {
   "cell_type": "code",
   "execution_count": 6,
   "id": "cardiovascular-subscription",
   "metadata": {},
   "outputs": [
    {
     "name": "stdout",
     "output_type": "stream",
     "text": [
      "+―――+\n",
      "| 0 |\n",
      "+―――+\n",
      "+―――――――――――――――――――――――――――――――――――+\n",
      "| 0 | 0 | 0 | 0 | 0 | 0 | 0 | 0 | 0 |\n",
      "|―――+―――+―――+―――+―――+―――+―――+―――+―――|\n",
      "| 0 | 0 | 0 | 0 | 0 | 0 | 0 | 0 | 0 |\n",
      "|―――+―――+―――+―――+―――+―――+―――+―――+―――|\n",
      "| 0 | 0 | 0 | 0 | 0 | 0 | 0 | 0 | 0 |\n",
      "|―――+―――+―――+―――+―――+―――+―――+―――+―――|\n",
      "| 0 | 0 | 0 | 0 | 0 | 0 | 0 | 0 | 0 |\n",
      "|―――+―――+―――+―――+―――+―――+―――+―――+―――|\n",
      "| 0 | 0 | 0 | 0 | 0 | 0 | 0 | 0 | 0 |\n",
      "+―――――――――――――――――――――――――――――――――――+\n"
     ]
    },
    {
     "data": {
      "text/plain": [
       "<500x500 Matrix at 0x7f983857dea0>"
      ]
     },
     "execution_count": 6,
     "metadata": {},
     "output_type": "execute_result"
    }
   ],
   "source": [
    "# Abitrary size\n",
    "print(Matrix(1, 1))\n",
    "print(Matrix(5, 9))\n",
    "Matrix(500,500)"
   ]
  },
  {
   "cell_type": "code",
   "execution_count": 7,
   "id": "unsigned-secret",
   "metadata": {},
   "outputs": [
    {
     "ename": "InvalidDimension",
     "evalue": "Matrix dimensions must be greater than zero.",
     "output_type": "error",
     "traceback": [
      "\u001b[0;31m---------------------------------------------------------------------------\u001b[0m",
      "\u001b[0;31mInvalidDimension\u001b[0m                          Traceback (most recent call last)",
      "\u001b[0;32m<ipython-input-7-01a7a17f77fa>\u001b[0m in \u001b[0;36m<module>\u001b[0;34m\u001b[0m\n\u001b[1;32m      1\u001b[0m \u001b[0;31m# Also invalid\u001b[0m\u001b[0;34m\u001b[0m\u001b[0;34m\u001b[0m\u001b[0;34m\u001b[0m\u001b[0m\n\u001b[0;32m----> 2\u001b[0;31m \u001b[0mMatrix\u001b[0m\u001b[0;34m(\u001b[0m\u001b[0;36m0\u001b[0m\u001b[0;34m,\u001b[0m \u001b[0;36m2\u001b[0m\u001b[0;34m)\u001b[0m\u001b[0;34m\u001b[0m\u001b[0;34m\u001b[0m\u001b[0m\n\u001b[0m",
      "\u001b[0;32m~/My_Works/projects/matrix/matrix/matrix.py\u001b[0m in \u001b[0;36m__init__\u001b[0;34m(self, rows_array, cols_zfill)\u001b[0m\n\u001b[1;32m     54\u001b[0m                 \u001b[0mself\u001b[0m\u001b[0;34m.\u001b[0m\u001b[0m__nrow\u001b[0m\u001b[0;34m,\u001b[0m \u001b[0mself\u001b[0m\u001b[0;34m.\u001b[0m\u001b[0m__ncol\u001b[0m \u001b[0;34m=\u001b[0m \u001b[0mrows\u001b[0m\u001b[0;34m,\u001b[0m \u001b[0mcols\u001b[0m\u001b[0;34m\u001b[0m\u001b[0;34m\u001b[0m\u001b[0m\n\u001b[1;32m     55\u001b[0m             \u001b[0;32melse\u001b[0m\u001b[0;34m:\u001b[0m\u001b[0;34m\u001b[0m\u001b[0;34m\u001b[0m\u001b[0m\n\u001b[0;32m---> 56\u001b[0;31m                 raise InvalidDimension(\n\u001b[0m\u001b[1;32m     57\u001b[0m                         \"Matrix dimensions must be greater than zero.\")\n\u001b[1;32m     58\u001b[0m         \u001b[0;32melif\u001b[0m \u001b[0mis_iterable\u001b[0m\u001b[0;34m(\u001b[0m\u001b[0mrows_array\u001b[0m\u001b[0;34m)\u001b[0m \u001b[0;32mand\u001b[0m \u001b[0misinstance\u001b[0m\u001b[0;34m(\u001b[0m\u001b[0mcols_zfill\u001b[0m\u001b[0;34m,\u001b[0m \u001b[0;34m(\u001b[0m\u001b[0mtype\u001b[0m\u001b[0;34m(\u001b[0m\u001b[0;32mNone\u001b[0m\u001b[0;34m)\u001b[0m\u001b[0;34m,\u001b[0m \u001b[0mbool\u001b[0m\u001b[0;34m)\u001b[0m\u001b[0;34m)\u001b[0m\u001b[0;34m:\u001b[0m\u001b[0;34m\u001b[0m\u001b[0;34m\u001b[0m\u001b[0m\n",
      "\u001b[0;31mInvalidDimension\u001b[0m: Matrix dimensions must be greater than zero."
     ]
    }
   ],
   "source": [
    "# Also invalid\n",
    "Matrix(0, 2)"
   ]
  },
  {
   "cell_type": "markdown",
   "id": "protecting-niger",
   "metadata": {},
   "source": [
    "### Given an array"
   ]
  },
  {
   "cell_type": "code",
   "execution_count": 8,
   "id": "connected-shark",
   "metadata": {},
   "outputs": [
    {
     "name": "stdout",
     "output_type": "stream",
     "text": [
      "+―――――――――――+\n",
      "| 1 | 2 | 3 |\n",
      "|―――+―――+―――|\n",
      "| 4 | 5 | 6 |\n",
      "|―――+―――+―――|\n",
      "| 7 | 8 | 9 |\n",
      "+―――――――――――+\n"
     ]
    }
   ],
   "source": [
    "# Nested lists\n",
    "print(Matrix([[1,2,3], [4,5,6], [7,8,9]]))"
   ]
  },
  {
   "cell_type": "code",
   "execution_count": 9,
   "id": "egyptian-playback",
   "metadata": {},
   "outputs": [
    {
     "name": "stdout",
     "output_type": "stream",
     "text": [
      "+――――――――――――――――――+\n",
      "| 1 | 2  | 3  | 4  |\n",
      "|―――+――――+――――+――――|\n",
      "| 5 | 6  | 7  | 8  |\n",
      "|―――+――――+――――+――――|\n",
      "| 9 | 10 | 11 | 12 |\n",
      "+――――――――――――――――――+\n"
     ]
    }
   ],
   "source": [
    "# Nested generator expressions\n",
    "r = iter(range(1, 20))\n",
    "print(Matrix((next(r) for _ in range(4)) for _ in range(3)))"
   ]
  },
  {
   "cell_type": "code",
   "execution_count": 10,
   "id": "rubber-water",
   "metadata": {},
   "outputs": [
    {
     "ename": "ValueError",
     "evalue": "'zfill' should be `True` when the array has variable row lengths.",
     "output_type": "error",
     "traceback": [
      "\u001b[0;31m---------------------------------------------------------------------------\u001b[0m",
      "\u001b[0;31mValueError\u001b[0m                                Traceback (most recent call last)",
      "\u001b[0;32m<ipython-input-10-2851cc247488>\u001b[0m in \u001b[0;36m<module>\u001b[0;34m\u001b[0m\n\u001b[1;32m      1\u001b[0m \u001b[0;31m# Non-uniform array\u001b[0m\u001b[0;34m\u001b[0m\u001b[0;34m\u001b[0m\u001b[0;34m\u001b[0m\u001b[0m\n\u001b[0;32m----> 2\u001b[0;31m \u001b[0mprint\u001b[0m\u001b[0;34m(\u001b[0m\u001b[0mMatrix\u001b[0m\u001b[0;34m(\u001b[0m\u001b[0;34m[\u001b[0m\u001b[0;34m[\u001b[0m\u001b[0;36m1\u001b[0m\u001b[0;34m,\u001b[0m\u001b[0;36m2\u001b[0m\u001b[0;34m,\u001b[0m\u001b[0;36m3\u001b[0m\u001b[0;34m]\u001b[0m\u001b[0;34m,\u001b[0m \u001b[0;34m[\u001b[0m\u001b[0;36m4\u001b[0m\u001b[0;34m,\u001b[0m\u001b[0;36m5\u001b[0m\u001b[0;34m]\u001b[0m\u001b[0;34m,\u001b[0m \u001b[0;34m[\u001b[0m\u001b[0;36m7\u001b[0m\u001b[0;34m]\u001b[0m\u001b[0;34m]\u001b[0m\u001b[0;34m)\u001b[0m\u001b[0;34m)\u001b[0m\u001b[0;34m\u001b[0m\u001b[0;34m\u001b[0m\u001b[0m\n\u001b[0m",
      "\u001b[0;32m~/My_Works/projects/matrix/matrix/matrix.py\u001b[0m in \u001b[0;36m__init__\u001b[0;34m(self, rows_array, cols_zfill)\u001b[0m\n\u001b[1;32m     69\u001b[0m                 \u001b[0mself\u001b[0m\u001b[0;34m.\u001b[0m\u001b[0mresize\u001b[0m\u001b[0;34m(\u001b[0m\u001b[0mncol\u001b[0m\u001b[0;34m=\u001b[0m\u001b[0mmaxlen\u001b[0m\u001b[0;34m,\u001b[0m \u001b[0mpad_rows\u001b[0m\u001b[0;34m=\u001b[0m\u001b[0;32mTrue\u001b[0m\u001b[0;34m)\u001b[0m\u001b[0;34m\u001b[0m\u001b[0;34m\u001b[0m\u001b[0m\n\u001b[1;32m     70\u001b[0m             \u001b[0;32melse\u001b[0m\u001b[0;34m:\u001b[0m\u001b[0;34m\u001b[0m\u001b[0;34m\u001b[0m\u001b[0m\n\u001b[0;32m---> 71\u001b[0;31m                 raise ValueError(\"'zfill' should be `True`\"\n\u001b[0m\u001b[1;32m     72\u001b[0m                                 \" when the array has variable row lengths.\")\n\u001b[1;32m     73\u001b[0m         \u001b[0;32melse\u001b[0m\u001b[0;34m:\u001b[0m\u001b[0;34m\u001b[0m\u001b[0;34m\u001b[0m\u001b[0m\n",
      "\u001b[0;31mValueError\u001b[0m: 'zfill' should be `True` when the array has variable row lengths."
     ]
    }
   ],
   "source": [
    "# Non-uniform array\n",
    "print(Matrix([[1,2,3], [4,5], [7]]))"
   ]
  },
  {
   "cell_type": "code",
   "execution_count": 11,
   "id": "harmful-crest",
   "metadata": {},
   "outputs": [
    {
     "name": "stdout",
     "output_type": "stream",
     "text": [
      "+―――――――――――+\n",
      "| 1 | 2 | 3 |\n",
      "|―――+―――+―――|\n",
      "| 4 | 5 | 0 |\n",
      "|―――+―――+―――|\n",
      "| 7 | 0 | 0 |\n",
      "+―――――――――――+\n"
     ]
    }
   ],
   "source": [
    "# Non-unform array with zfill=True\n",
    "print(Matrix([[1,2,3], [4,5], [7]], True))"
   ]
  },
  {
   "cell_type": "markdown",
   "id": "signal-indication",
   "metadata": {},
   "source": [
    "## Using the provided utility functions"
   ]
  },
  {
   "cell_type": "code",
   "execution_count": 12,
   "id": "complicated-matter",
   "metadata": {},
   "outputs": [
    {
     "name": "stdout",
     "output_type": "stream",
     "text": [
      "+―――――――――――+\n",
      "| 1 | 0 | 0 |\n",
      "|―――+―――+―――|\n",
      "| 0 | 1 | 0 |\n",
      "|―――+―――+―――|\n",
      "| 0 | 0 | 1 |\n",
      "+―――――――――――+\n"
     ]
    }
   ],
   "source": [
    "print(unit_matrix(3))  # 3x3 unit matrix"
   ]
  },
  {
   "cell_type": "code",
   "execution_count": 13,
   "id": "awful-revolution",
   "metadata": {},
   "outputs": [
    {
     "data": {
      "text/plain": [
       "<50x50 Matrix at 0x7f98385304a0>"
      ]
     },
     "execution_count": 13,
     "metadata": {},
     "output_type": "execute_result"
    }
   ],
   "source": [
    "unit_matrix(50)  # 50x50 unit matrix"
   ]
  },
  {
   "cell_type": "code",
   "execution_count": 14,
   "id": "stunning-acrobat",
   "metadata": {},
   "outputs": [
    {
     "name": "stdout",
     "output_type": "stream",
     "text": [
      "+―――――――――――――――――――+\n",
      "| 6  | 10 | 18 | 20 |\n",
      "|――――+――――+――――+――――|\n",
      "| 6  | 14 | 20 | 18 |\n",
      "|――――+――――+――――+――――|\n",
      "| 20 | 8  | 14 | 4  |\n",
      "+―――――――――――――――――――+\n",
      "+―――――――――――――+\n",
      "| 1  | 5 | 19 |\n",
      "|――――+―――+――――|\n",
      "| 3  | 5 | 3  |\n",
      "|――――+―――+――――|\n",
      "| 5  | 7 | 19 |\n",
      "|――――+―――+――――|\n",
      "| 13 | 5 | 5  |\n",
      "+―――――――――――――+\n"
     ]
    }
   ],
   "source": [
    "# Random integer elements\n",
    "print(randint_matrix(3, 4, range(0, 21, 2)))  # Random integers from amongst even numbers below 21\n",
    "print(randint_matrix(4, 3, range(1, 21, 2)))  # Random integers from amongst odd numbers below 21"
   ]
  },
  {
   "cell_type": "code",
   "execution_count": 15,
   "id": "divine-chambers",
   "metadata": {},
   "outputs": [
    {
     "name": "stdout",
     "output_type": "stream",
     "text": [
      "+――――――――――――――――――――――――――+\n",
      "| -59.57 | 21.16  | -89.21 |\n",
      "|――――――――+――――――――+――――――――|\n",
      "| -75.04 | -60.5  | -14.84 |\n",
      "|――――――――+――――――――+――――――――|\n",
      "| -43.2  | -37.93 | 58.52  |\n",
      "|――――――――+――――――――+――――――――|\n",
      "| -36.31 | -59.64 | -28.06 |\n",
      "+――――――――――――――――――――――――――+\n",
      "+―――――――――――――――――――――――――――+\n",
      "| 0.9294 | 0.4942 | 0.1911  |\n",
      "|――――――――+――――――――+―――――――――|\n",
      "| 0.7087 | 0.432  | 0.07448 |\n",
      "|――――――――+――――――――+―――――――――|\n",
      "| 0.4865 | 0.6994 | 0.5035  |\n",
      "+―――――――――――――――――――――――――――+\n"
     ]
    }
   ],
   "source": [
    "# Random floating-point elements\n",
    "print(random_matrix(4, 3, -100, 100))\n",
    "print(random_matrix(3, 3, 0, 1))"
   ]
  }
 ],
 "metadata": {
  "kernelspec": {
   "display_name": "Python 3",
   "language": "python",
   "name": "python3"
  },
  "language_info": {
   "codemirror_mode": {
    "name": "ipython",
    "version": 3
   },
   "file_extension": ".py",
   "mimetype": "text/x-python",
   "name": "python",
   "nbconvert_exporter": "python",
   "pygments_lexer": "ipython3",
   "version": "3.8.6"
  }
 },
 "nbformat": 4,
 "nbformat_minor": 5
}
