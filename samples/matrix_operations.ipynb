{
 "cells": [
  {
   "cell_type": "markdown",
   "id": "adjusted-disaster",
   "metadata": {},
   "source": [
    "# Matrix Operations"
   ]
  },
  {
   "cell_type": "code",
   "execution_count": 1,
   "id": "opposed-grain",
   "metadata": {},
   "outputs": [],
   "source": [
    "from matrix import *"
   ]
  },
  {
   "cell_type": "markdown",
   "id": "approximate-thesis",
   "metadata": {},
   "source": [
    "## Via unary operators"
   ]
  },
  {
   "cell_type": "code",
   "execution_count": 2,
   "id": "opposite-franklin",
   "metadata": {},
   "outputs": [
    {
     "name": "stdout",
     "output_type": "stream",
     "text": [
      "+――――――――――――――+\n",
      "| 9  | -1 | 9  |\n",
      "|――――+――――+――――|\n",
      "| 2  | -8 | -1 |\n",
      "|――――+――――+――――|\n",
      "| -4 | 0  | 9  |\n",
      "+――――――――――――――+\n"
     ]
    }
   ],
   "source": [
    "m = randint_matrix(3, 3, range(-9, 10))\n",
    "print(m)"
   ]
  },
  {
   "cell_type": "code",
   "execution_count": 3,
   "id": "generous-infrastructure",
   "metadata": {},
   "outputs": [
    {
     "name": "stdout",
     "output_type": "stream",
     "text": [
      "+―――――――――――――+\n",
      "| -9 | 1 | -9 |\n",
      "|――――+―――+――――|\n",
      "| -2 | 8 | 1  |\n",
      "|――――+―――+――――|\n",
      "| 4  | 0 | -9 |\n",
      "+―――――――――――――+\n"
     ]
    }
   ],
   "source": [
    "# Negation\n",
    "print(-m)"
   ]
  },
  {
   "cell_type": "code",
   "execution_count": 4,
   "id": "ready-collaboration",
   "metadata": {},
   "outputs": [
    {
     "name": "stdout",
     "output_type": "stream",
     "text": [
      "+――――――――――――――――――――――――――――――――+\n",
      "| 0.07809 | -0.009761 | -0.07918 |\n",
      "|―――――――――+―――――――――――+――――――――――|\n",
      "| 0.01518 |  -0.1269  | -0.02928 |\n",
      "|―――――――――+―――――――――――+――――――――――|\n",
      "| 0.03471 | -0.004338 | 0.07592  |\n",
      "+――――――――――――――――――――――――――――――――+\n",
      "+――――――――――――――+\n",
      "| 9  | -1 | 9  |\n",
      "|――――+――――+――――|\n",
      "| 2  | -8 | -1 |\n",
      "|――――+――――+――――|\n",
      "| -4 | 0  | 9  |\n",
      "+――――――――――――――+\n",
      "True\n",
      "+―――――――――――+\n",
      "| 1 | 0 | 0 |\n",
      "|―――+―――+―――|\n",
      "| 0 | 1 | 0 |\n",
      "|―――+―――+―――|\n",
      "| 0 | 0 | 1 |\n",
      "+―――――――――――+\n"
     ]
    }
   ],
   "source": [
    "# Inverse\n",
    "print(~m)\n",
    "print(~~m)  # Inverse of inverse\n",
    "print(m == ~~m)\n",
    "print(m @ ~m)  # Matrix times its inverse"
   ]
  },
  {
   "cell_type": "code",
   "execution_count": 5,
   "id": "charitable-collector",
   "metadata": {},
   "outputs": [
    {
     "ename": "ValueError",
     "evalue": "This matrix is non-invertible.",
     "output_type": "error",
     "traceback": [
      "\u001b[0;31m---------------------------------------------------------------------------\u001b[0m",
      "\u001b[0;31mZeroDeterminant\u001b[0m                           Traceback (most recent call last)",
      "\u001b[0;32m~/My_Works/projects/matrix/matrix/matrix.py\u001b[0m in \u001b[0;36m__invert__\u001b[0;34m(self)\u001b[0m\n\u001b[1;32m    442\u001b[0m         \u001b[0;32mtry\u001b[0m\u001b[0;34m:\u001b[0m\u001b[0;34m\u001b[0m\u001b[0;34m\u001b[0m\u001b[0m\n\u001b[0;32m--> 443\u001b[0;31m             \u001b[0maugmented\u001b[0m\u001b[0;34m.\u001b[0m\u001b[0mback_substitute\u001b[0m\u001b[0;34m(\u001b[0m\u001b[0;34m)\u001b[0m\u001b[0;34m\u001b[0m\u001b[0;34m\u001b[0m\u001b[0m\n\u001b[0m\u001b[1;32m    444\u001b[0m         \u001b[0;32mexcept\u001b[0m \u001b[0mZeroDeterminant\u001b[0m \u001b[0;32mas\u001b[0m \u001b[0merr\u001b[0m\u001b[0;34m:\u001b[0m\u001b[0;34m\u001b[0m\u001b[0;34m\u001b[0m\u001b[0m\n",
      "\u001b[0;32m~/My_Works/projects/matrix/matrix/matrix.py\u001b[0m in \u001b[0;36mback_substitute\u001b[0;34m(self)\u001b[0m\n\u001b[1;32m    795\u001b[0m         \u001b[0;32mif\u001b[0m \u001b[0;32mnot\u001b[0m \u001b[0mall\u001b[0m\u001b[0;34m(\u001b[0m\u001b[0mrow\u001b[0m\u001b[0;34m[\u001b[0m\u001b[0mi\u001b[0m\u001b[0;34m]\u001b[0m \u001b[0;32mfor\u001b[0m \u001b[0mi\u001b[0m\u001b[0;34m,\u001b[0m \u001b[0mrow\u001b[0m \u001b[0;32min\u001b[0m \u001b[0menumerate\u001b[0m\u001b[0;34m(\u001b[0m\u001b[0marray\u001b[0m\u001b[0;34m)\u001b[0m\u001b[0;34m)\u001b[0m\u001b[0;34m:\u001b[0m\u001b[0;34m\u001b[0m\u001b[0;34m\u001b[0m\u001b[0m\n\u001b[0;32m--> 796\u001b[0;31m             raise ZeroDeterminant(\n\u001b[0m\u001b[1;32m    797\u001b[0m                         \u001b[0;34m\"The determinant of the left square of this matrix is zero.\"\u001b[0m\u001b[0;34m,\u001b[0m\u001b[0;34m\u001b[0m\u001b[0;34m\u001b[0m\u001b[0m\n",
      "\u001b[0;31mZeroDeterminant\u001b[0m: The determinant of the left square of this matrix is zero.",
      "\nThe above exception was the direct cause of the following exception:\n",
      "\u001b[0;31mValueError\u001b[0m                                Traceback (most recent call last)",
      "\u001b[0;32m<ipython-input-5-843f3f4495be>\u001b[0m in \u001b[0;36m<module>\u001b[0;34m\u001b[0m\n\u001b[1;32m      4\u001b[0m     \u001b[0;32mif\u001b[0m \u001b[0;32mnot\u001b[0m \u001b[0mm\u001b[0m\u001b[0;34m.\u001b[0m\u001b[0mdeterminant\u001b[0m\u001b[0;34m:\u001b[0m\u001b[0;34m\u001b[0m\u001b[0;34m\u001b[0m\u001b[0m\n\u001b[1;32m      5\u001b[0m         \u001b[0;32mbreak\u001b[0m\u001b[0;34m\u001b[0m\u001b[0;34m\u001b[0m\u001b[0m\n\u001b[0;32m----> 6\u001b[0;31m \u001b[0mprint\u001b[0m\u001b[0;34m(\u001b[0m\u001b[0;34m~\u001b[0m\u001b[0mm\u001b[0m\u001b[0;34m)\u001b[0m\u001b[0;34m\u001b[0m\u001b[0;34m\u001b[0m\u001b[0m\n\u001b[0m",
      "\u001b[0;32m~/My_Works/projects/matrix/matrix/matrix.py\u001b[0m in \u001b[0;36m__invert__\u001b[0;34m(self)\u001b[0m\n\u001b[1;32m    444\u001b[0m         \u001b[0;32mexcept\u001b[0m \u001b[0mZeroDeterminant\u001b[0m \u001b[0;32mas\u001b[0m \u001b[0merr\u001b[0m\u001b[0;34m:\u001b[0m\u001b[0;34m\u001b[0m\u001b[0;34m\u001b[0m\u001b[0m\n\u001b[1;32m    445\u001b[0m             \u001b[0;31m# Shows that the zero determinant is the reason for non-invertibility\u001b[0m\u001b[0;34m\u001b[0m\u001b[0;34m\u001b[0m\u001b[0;34m\u001b[0m\u001b[0m\n\u001b[0;32m--> 446\u001b[0;31m             \u001b[0;32mraise\u001b[0m \u001b[0mValueError\u001b[0m\u001b[0;34m(\u001b[0m\u001b[0;34m\"This matrix is non-invertible.\"\u001b[0m\u001b[0;34m)\u001b[0m \u001b[0;32mfrom\u001b[0m \u001b[0merr\u001b[0m\u001b[0;34m\u001b[0m\u001b[0;34m\u001b[0m\u001b[0m\n\u001b[0m\u001b[1;32m    447\u001b[0m         \u001b[0minverse\u001b[0m \u001b[0;34m=\u001b[0m \u001b[0maugmented\u001b[0m\u001b[0;34m[\u001b[0m\u001b[0;34m:\u001b[0m\u001b[0;34m,\u001b[0m \u001b[0mnrow\u001b[0m\u001b[0;34m+\u001b[0m\u001b[0;36m1\u001b[0m\u001b[0;34m:\u001b[0m\u001b[0;34m]\u001b[0m\u001b[0;34m\u001b[0m\u001b[0;34m\u001b[0m\u001b[0m\n\u001b[1;32m    448\u001b[0m \u001b[0;34m\u001b[0m\u001b[0m\n",
      "\u001b[0;31mValueError\u001b[0m: This matrix is non-invertible."
     ]
    }
   ],
   "source": [
    "# Non-invertible matrices\n",
    "while True:\n",
    "    m = randint_matrix(3, 3, range(-9, 10))\n",
    "    if not m.determinant:\n",
    "        break\n",
    "print(~m)"
   ]
  },
  {
   "cell_type": "markdown",
   "id": "ahead-amazon",
   "metadata": {},
   "source": [
    "## Via binary operators"
   ]
  },
  {
   "cell_type": "code",
   "execution_count": 6,
   "id": "chemical-orange",
   "metadata": {},
   "outputs": [
    {
     "name": "stdout",
     "output_type": "stream",
     "text": [
      "+―――――――――――――+\n",
      "| -8 | 2 | -7 |\n",
      "|――――+―――+――――|\n",
      "| 1  | 5 | 9  |\n",
      "|――――+―――+――――|\n",
      "| 2  | 8 | 6  |\n",
      "+―――――――――――――+\n",
      "+――――――――――――――+\n",
      "| -7 | -5 | 6  |\n",
      "|――――+――――+――――|\n",
      "| -2 | -6 | -2 |\n",
      "|――――+――――+――――|\n",
      "| -2 | 1  | 6  |\n",
      "+――――――――――――――+\n"
     ]
    }
   ],
   "source": [
    "m1 = randint_matrix(3, 3, range(-9, 10))\n",
    "m2 = randint_matrix(3, 3, range(-9, 10))\n",
    "print(m1)\n",
    "print(m2)"
   ]
  },
  {
   "cell_type": "code",
   "execution_count": 7,
   "id": "silver-circular",
   "metadata": {},
   "outputs": [
    {
     "name": "stdout",
     "output_type": "stream",
     "text": [
      "False\n"
     ]
    }
   ],
   "source": [
    "# Equality comparison\n",
    "print(m1 == m2)"
   ]
  },
  {
   "cell_type": "code",
   "execution_count": 8,
   "id": "amino-collection",
   "metadata": {},
   "outputs": [
    {
     "name": "stdout",
     "output_type": "stream",
     "text": [
      "+―――――――――――――――+\n",
      "| -15 | -3 | -1 |\n",
      "|―――――+――――+――――|\n",
      "| -1  | -1 | 7  |\n",
      "|―――――+――――+――――|\n",
      "|  0  | 9  | 12 |\n",
      "+―――――――――――――――+\n"
     ]
    }
   ],
   "source": [
    "# Addition\n",
    "print(m1 + m2)"
   ]
  },
  {
   "cell_type": "code",
   "execution_count": 9,
   "id": "permanent-copyright",
   "metadata": {},
   "outputs": [
    {
     "name": "stdout",
     "output_type": "stream",
     "text": [
      "+―――――――――――――――+\n",
      "| -1 | 7  | -13 |\n",
      "|――――+――――+―――――|\n",
      "| 3  | 11 | 11  |\n",
      "|――――+――――+―――――|\n",
      "| 4  | 7  |  0  |\n",
      "+―――――――――――――――+\n"
     ]
    }
   ],
   "source": [
    "# Subtraction\n",
    "print(m1 - m2)"
   ]
  },
  {
   "cell_type": "code",
   "execution_count": 10,
   "id": "corporate-blackberry",
   "metadata": {},
   "outputs": [
    {
     "name": "stdout",
     "output_type": "stream",
     "text": [
      "+――――――――――――――――+\n",
      "| -24 | 6  | -21 |\n",
      "|―――――+――――+―――――|\n",
      "|  3  | 15 | 27  |\n",
      "|―――――+――――+―――――|\n",
      "|  6  | 24 | 18  |\n",
      "+――――――――――――――――+\n"
     ]
    }
   ],
   "source": [
    "# Scalar multiplication\n",
    "print(m1 * 3)"
   ]
  },
  {
   "cell_type": "code",
   "execution_count": 11,
   "id": "banned-witness",
   "metadata": {},
   "outputs": [
    {
     "name": "stdout",
     "output_type": "stream",
     "text": [
      "+―――――――――――――――――+\n",
      "| 66  | 21  | -94 |\n",
      "|―――――+―――――+―――――|\n",
      "| -35 | -26 | 50  |\n",
      "|―――――+―――――+―――――|\n",
      "| -42 | -52 | 32  |\n",
      "+―――――――――――――――――+\n"
     ]
    }
   ],
   "source": [
    "# Matrix multiplication\n",
    "print(m1 @ m2)"
   ]
  },
  {
   "cell_type": "code",
   "execution_count": 12,
   "id": "demographic-values",
   "metadata": {},
   "outputs": [
    {
     "name": "stdout",
     "output_type": "stream",
     "text": [
      "+――――――――――――――――――+\n",
      "| -4  |  1  | -3.5 |\n",
      "|―――――+―――――+――――――|\n",
      "| 0.5 | 2.5 | 4.5  |\n",
      "|―――――+―――――+――――――|\n",
      "|  1  |  4  |  3   |\n",
      "+――――――――――――――――――+\n"
     ]
    }
   ],
   "source": [
    "# Division by scalar\n",
    "print(m1 / 2)"
   ]
  },
  {
   "cell_type": "code",
   "execution_count": 13,
   "id": "living-intake",
   "metadata": {},
   "outputs": [
    {
     "name": "stdout",
     "output_type": "stream",
     "text": [
      "+――――――――――――――――――――――――――――+\n",
      "| -8 | 2 | -7 | -7 | -5 | 6  |\n",
      "|――――+―――+――――+――――+――――+――――|\n",
      "| 1  | 5 | 9  | -2 | -6 | -2 |\n",
      "|――――+―――+――――+――――+――――+――――|\n",
      "| 2  | 8 | 6  | -2 | 1  | 6  |\n",
      "+――――――――――――――――――――――――――――+\n"
     ]
    }
   ],
   "source": [
    "# Augmentation\n",
    "print(m1 | m2)"
   ]
  },
  {
   "cell_type": "markdown",
   "id": "remarkable-lawyer",
   "metadata": {},
   "source": [
    "## Via explicit methods"
   ]
  },
  {
   "cell_type": "code",
   "execution_count": 14,
   "id": "associate-luther",
   "metadata": {},
   "outputs": [
    {
     "name": "stdout",
     "output_type": "stream",
     "text": [
      "+―――――――――――――――――――+\n",
      "| -8 | 7  | -6 | 3  |\n",
      "|――――+――――+――――+――――|\n",
      "| 0  | -7 | -6 | -9 |\n",
      "|――――+――――+――――+――――|\n",
      "| 9  | -7 | -4 | -2 |\n",
      "+―――――――――――――――――――+\n"
     ]
    }
   ],
   "source": [
    "m = randint_matrix(3, 4, range(-9, 10))\n",
    "print(m)"
   ]
  },
  {
   "cell_type": "code",
   "execution_count": 15,
   "id": "middle-philippines",
   "metadata": {},
   "outputs": [
    {
     "name": "stdout",
     "output_type": "stream",
     "text": [
      "+――――――――――――――+\n",
      "| -8 | 0  | 9  |\n",
      "|――――+――――+――――|\n",
      "| 7  | -7 | -7 |\n",
      "|――――+――――+――――|\n",
      "| -6 | -6 | -4 |\n",
      "|――――+――――+――――|\n",
      "| 3  | -9 | -2 |\n",
      "+――――――――――――――+\n"
     ]
    }
   ],
   "source": [
    "# Transposed copy\n",
    "print(m.transposed())"
   ]
  },
  {
   "cell_type": "code",
   "execution_count": 16,
   "id": "subject-cabinet",
   "metadata": {},
   "outputs": [
    {
     "name": "stdout",
     "output_type": "stream",
     "text": [
      "+―――――――――――――――――――+\n",
      "| -8 | 7  | -6 | 3  |\n",
      "|――――+――――+――――+――――|\n",
      "| 0  | -7 | -6 | -9 |\n",
      "|――――+――――+――――+――――|\n",
      "| 9  | -7 | -4 | -2 |\n",
      "+―――――――――――――――――――+\n",
      "+――――――――――――――+\n",
      "| -8 | 0  | 9  |\n",
      "|――――+――――+――――|\n",
      "| 7  | -7 | -7 |\n",
      "|――――+――――+――――|\n",
      "| -6 | -6 | -4 |\n",
      "|――――+――――+――――|\n",
      "| 3  | -9 | -2 |\n",
      "+――――――――――――――+\n"
     ]
    }
   ],
   "source": [
    "# Transpose in-place\n",
    "print(m)\n",
    "m.transpose()\n",
    "print(m)"
   ]
  },
  {
   "cell_type": "markdown",
   "id": "quarterly-douglas",
   "metadata": {},
   "source": [
    "### Row reduction"
   ]
  },
  {
   "cell_type": "code",
   "execution_count": 17,
   "id": "imposed-opinion",
   "metadata": {},
   "outputs": [
    {
     "name": "stdout",
     "output_type": "stream",
     "text": [
      "+―――――――――――――+\n",
      "| 0 | 8  | -3 |\n",
      "|―――+――――+――――|\n",
      "| 3 | -5 | -1 |\n",
      "|―――+――――+――――|\n",
      "| 2 | -8 | 4  |\n",
      "+―――――――――――――+\n",
      "+――――――――――――――――+\n",
      "| 3 | -5 |  -1   |\n",
      "|―――+――――+―――――――|\n",
      "| 0 | 8  |  -3   |\n",
      "|―――+――――+―――――――|\n",
      "| 0 | 0  | 2.917 |\n",
      "+――――――――――――――――+\n"
     ]
    }
   ],
   "source": [
    "# Upper triangular\n",
    "m = randint_matrix(3, 3, range(-9, 10))\n",
    "print(m)\n",
    "m.to_upper_triangular()\n",
    "print(m)"
   ]
  },
  {
   "cell_type": "code",
   "execution_count": 18,
   "id": "sticky-stretch",
   "metadata": {},
   "outputs": [
    {
     "name": "stdout",
     "output_type": "stream",
     "text": [
      "+――――――――――――――+\n",
      "| 0  | -5 | -2 |\n",
      "|――――+――――+――――|\n",
      "| -3 | 3  | -9 |\n",
      "|――――+――――+――――|\n",
      "| -3 | -8 | 9  |\n",
      "+――――――――――――――+\n",
      "+――――――――――――――――+\n",
      "| 7.467 | 0  | 0 |\n",
      "|―――――――+――――+―――|\n",
      "|  -6   | -5 | 0 |\n",
      "|―――――――+――――+―――|\n",
      "|  -3   | -8 | 9 |\n",
      "+――――――――――――――――+\n"
     ]
    }
   ],
   "source": [
    "# Lower triangular\n",
    "m = randint_matrix(3, 3, range(-9, 10))\n",
    "print(m)\n",
    "m.to_lower_triangular()\n",
    "print(m)"
   ]
  },
  {
   "cell_type": "code",
   "execution_count": 19,
   "id": "purple-chance",
   "metadata": {},
   "outputs": [
    {
     "name": "stdout",
     "output_type": "stream",
     "text": [
      "+――――――――――――――――――+\n",
      "| -5 | 5 | -3 | 5  |\n",
      "|――――+―――+――――+――――|\n",
      "| 0  | 0 | 9  | 5  |\n",
      "|――――+―――+――――+――――|\n",
      "| 0  | 0 | -9 | -3 |\n",
      "+――――――――――――――――――+\n",
      "+―――――――――――――――――+\n",
      "| -5 | 5 | -3 | 5 |\n",
      "|――――+―――+――――+―――|\n",
      "| 0  | 0 | 9  | 5 |\n",
      "|――――+―――+――――+―――|\n",
      "| 0  | 0 | 0  | 2 |\n",
      "+―――――――――――――――――+\n"
     ]
    }
   ],
   "source": [
    "# Row echelon form\n",
    "m = randint_matrix(3, 4, range(-9, 10))\n",
    "m[2:, :2] = [[0]*2]*2  # To shift the second row's pivot\n",
    "print(m)\n",
    "m.to_row_echelon()\n",
    "print(m)"
   ]
  },
  {
   "cell_type": "code",
   "execution_count": 20,
   "id": "center-house",
   "metadata": {},
   "outputs": [
    {
     "name": "stdout",
     "output_type": "stream",
     "text": [
      "+――――――――――――――+\n",
      "| 6  | -1 | 0  |\n",
      "|――――+――――+――――|\n",
      "| 7  | 2  | 8  |\n",
      "|――――+――――+――――|\n",
      "| -7 | 9  | -1 |\n",
      "|――――+――――+――――|\n",
      "| 7  | -6 | 0  |\n",
      "|――――+――――+――――|\n",
      "| -3 | 3  | -1 |\n",
      "+――――――――――――――+\n",
      "+――――――――――――――――――――+\n",
      "| 6 |  -1   |   0    |\n",
      "|―――+―――――――+――――――――|\n",
      "| 0 | 3.167 |   8    |\n",
      "|―――+―――――――+――――――――|\n",
      "| 0 |   0   | -20.79 |\n",
      "|―――+―――――――+――――――――|\n",
      "| 0 |   0   |   0    |\n",
      "|―――+―――――――+――――――――|\n",
      "| 0 |   0   |   0    |\n",
      "+――――――――――――――――――――+\n"
     ]
    }
   ],
   "source": [
    "m = randint_matrix(5, 3, range(-9, 10))\n",
    "print(m)\n",
    "m.to_row_echelon()\n",
    "print(m)"
   ]
  },
  {
   "cell_type": "code",
   "execution_count": 21,
   "id": "sufficient-jordan",
   "metadata": {},
   "outputs": [
    {
     "name": "stdout",
     "output_type": "stream",
     "text": [
      "+―――――――――――――――――――――――――――――+\n",
      "| -7 | 7  | -6 | -7 | 0  | -3 |\n",
      "|――――+――――+――――+――――+――――+――――|\n",
      "| -9 | -5 | 4  | -5 | 6  | 8  |\n",
      "|――――+――――+――――+――――+――――+――――|\n",
      "| 0  | 0  | 0  | -9 | -2 | 3  |\n",
      "|――――+――――+――――+――――+――――+――――|\n",
      "| 0  | 0  | 0  | -7 | -1 | -9 |\n",
      "+―――――――――――――――――――――――――――――+\n",
      "+――――――――――――――――――――――――――――――――――+\n",
      "| 1 | 0 | 0.02041 | 0 | 0 | -12.16 |\n",
      "|―――+―――+―――――――――+―――+―――+――――――――|\n",
      "| 0 | 1 | -0.8367 | 0 | 0 | -8.39  |\n",
      "|―――+―――+―――――――――+―――+―――+――――――――|\n",
      "| 0 | 0 |    0    | 1 | 0 |  4.2   |\n",
      "|―――+―――+―――――――――+―――+―――+――――――――|\n",
      "| 0 | 0 |    0    | 0 | 1 | -20.4  |\n",
      "+――――――――――――――――――――――――――――――――――+\n"
     ]
    }
   ],
   "source": [
    "# Reduced Row Echelon form\n",
    "m = randint_matrix(4, 6, range(-9, 10))\n",
    "m[3:, :3] = [[0]*3]*2  # To shift the third row's pivot\n",
    "print(m)\n",
    "m.to_reduced_row_echelon()\n",
    "print(m)"
   ]
  },
  {
   "cell_type": "code",
   "execution_count": 22,
   "id": "detected-niagara",
   "metadata": {},
   "outputs": [
    {
     "name": "stdout",
     "output_type": "stream",
     "text": [
      "+――――――――――――――+\n",
      "| -8 | -3 | -7 |\n",
      "|――――+――――+――――|\n",
      "| 7  | -9 | 6  |\n",
      "|――――+――――+――――|\n",
      "| 6  | 8  | -1 |\n",
      "|――――+――――+――――|\n",
      "| 0  | -4 | -4 |\n",
      "|――――+――――+――――|\n",
      "| 7  | 5  | 5  |\n",
      "+――――――――――――――+\n",
      "+―――――――――――+\n",
      "| 1 | 0 | 0 |\n",
      "|―――+―――+―――|\n",
      "| 0 | 1 | 0 |\n",
      "|―――+―――+―――|\n",
      "| 0 | 0 | 1 |\n",
      "|―――+―――+―――|\n",
      "| 0 | 0 | 0 |\n",
      "|―――+―――+―――|\n",
      "| 0 | 0 | 0 |\n",
      "+―――――――――――+\n"
     ]
    }
   ],
   "source": [
    "m = randint_matrix(5, 3, range(-9, 10))\n",
    "print(m)\n",
    "m.to_reduced_row_echelon()\n",
    "print(m)"
   ]
  },
  {
   "cell_type": "code",
   "execution_count": 23,
   "id": "acute-volume",
   "metadata": {},
   "outputs": [
    {
     "name": "stdout",
     "output_type": "stream",
     "text": [
      "+―――――――――――――――――――+\n",
      "| -6 | -3 | 6  | -4 |\n",
      "|――――+――――+――――+――――|\n",
      "| 4  | -8 | -9 | 3  |\n",
      "|――――+――――+――――+――――|\n",
      "| -9 | -2 | -9 | -2 |\n",
      "+―――――――――――――――――――+\n",
      "+――――――――――――――――――――――――――――+\n",
      "| -6 | -3  |   6    |   -4   |\n",
      "|――――+―――――+――――――――+――――――――|\n",
      "| 0  | -10 |   -5   | 0.3333 |\n",
      "|――――+―――――+――――――――+――――――――|\n",
      "| 0  |  0  | -19.25 | 4.083  |\n",
      "+――――――――――――――――――――――――――――+\n"
     ]
    }
   ],
   "source": [
    "# Forward Elimination\n",
    "m = randint_matrix(3, 4, range(-9, 10))\n",
    "print(m)\n",
    "m.forward_eliminate()\n",
    "print(m)"
   ]
  },
  {
   "cell_type": "code",
   "execution_count": 24,
   "id": "mobile-collapse",
   "metadata": {},
   "outputs": [
    {
     "name": "stdout",
     "output_type": "stream",
     "text": [
      "+―――――――――――――――――――――+\n",
      "| 1 | 0 | 0 | 0.4182  |\n",
      "|―――+―――+―――+―――――――――|\n",
      "| 0 | 1 | 0 | 0.07273 |\n",
      "|―――+―――+―――+―――――――――|\n",
      "| 0 | 0 | 1 | -0.2121 |\n",
      "+―――――――――――――――――――――+\n"
     ]
    }
   ],
   "source": [
    "# Back Substitution\n",
    "m.back_substitute()\n",
    "print(m)"
   ]
  },
  {
   "cell_type": "code",
   "execution_count": 25,
   "id": "human-delhi",
   "metadata": {},
   "outputs": [
    {
     "name": "stdout",
     "output_type": "stream",
     "text": [
      "+―――――――――――――――――+\n",
      "| 5 | 0  | -9 | 9 |\n",
      "|―――+――――+――――+―――|\n",
      "| 0 | 3  | -1 | 8 |\n",
      "|―――+――――+――――+―――|\n",
      "| 4 | -2 | 5  | 0 |\n",
      "+―――――――――――――――――+\n"
     ]
    },
    {
     "ename": "ValueError",
     "evalue": "All elements below the principal diagonal must be zeros (Forward Elimination comes before Back Substitution).",
     "output_type": "error",
     "traceback": [
      "\u001b[0;31m---------------------------------------------------------------------------\u001b[0m",
      "\u001b[0;31mValueError\u001b[0m                                Traceback (most recent call last)",
      "\u001b[0;32m<ipython-input-25-8b50ebbe0ad3>\u001b[0m in \u001b[0;36m<module>\u001b[0;34m\u001b[0m\n\u001b[1;32m      2\u001b[0m \u001b[0mm\u001b[0m \u001b[0;34m=\u001b[0m \u001b[0mrandint_matrix\u001b[0m\u001b[0;34m(\u001b[0m\u001b[0;36m3\u001b[0m\u001b[0;34m,\u001b[0m \u001b[0;36m4\u001b[0m\u001b[0;34m,\u001b[0m \u001b[0mrange\u001b[0m\u001b[0;34m(\u001b[0m\u001b[0;34m-\u001b[0m\u001b[0;36m9\u001b[0m\u001b[0;34m,\u001b[0m \u001b[0;36m10\u001b[0m\u001b[0;34m)\u001b[0m\u001b[0;34m)\u001b[0m\u001b[0;34m\u001b[0m\u001b[0;34m\u001b[0m\u001b[0m\n\u001b[1;32m      3\u001b[0m \u001b[0mprint\u001b[0m\u001b[0;34m(\u001b[0m\u001b[0mm\u001b[0m\u001b[0;34m)\u001b[0m\u001b[0;34m\u001b[0m\u001b[0;34m\u001b[0m\u001b[0m\n\u001b[0;32m----> 4\u001b[0;31m \u001b[0mm\u001b[0m\u001b[0;34m.\u001b[0m\u001b[0mback_substitute\u001b[0m\u001b[0;34m(\u001b[0m\u001b[0;34m)\u001b[0m\u001b[0;34m\u001b[0m\u001b[0;34m\u001b[0m\u001b[0m\n\u001b[0m",
      "\u001b[0;32m~/My_Works/projects/matrix/matrix/matrix.py\u001b[0m in \u001b[0;36mback_substitute\u001b[0;34m(self)\u001b[0m\n\u001b[1;32m    786\u001b[0m             \u001b[0;32mraise\u001b[0m \u001b[0mInvalidDimension\u001b[0m\u001b[0;34m(\u001b[0m\u001b[0;34m\"The matrix must be horizontal.\"\u001b[0m\u001b[0;34m)\u001b[0m\u001b[0;34m\u001b[0m\u001b[0;34m\u001b[0m\u001b[0m\n\u001b[1;32m    787\u001b[0m         \u001b[0;32mif\u001b[0m \u001b[0;32mnot\u001b[0m \u001b[0mself\u001b[0m\u001b[0;34m.\u001b[0m\u001b[0mis_upper_triangular\u001b[0m\u001b[0;34m(\u001b[0m\u001b[0mas_square\u001b[0m\u001b[0;34m=\u001b[0m\u001b[0;32mTrue\u001b[0m\u001b[0;34m)\u001b[0m\u001b[0;34m:\u001b[0m\u001b[0;34m\u001b[0m\u001b[0;34m\u001b[0m\u001b[0m\n\u001b[0;32m--> 788\u001b[0;31m             raise ValueError(\n\u001b[0m\u001b[1;32m    789\u001b[0m                     \u001b[0;34m\"All elements below the principal diagonal must be zeros\"\u001b[0m\u001b[0;34m\u001b[0m\u001b[0;34m\u001b[0m\u001b[0m\n\u001b[1;32m    790\u001b[0m                     \u001b[0;34m\" (Forward Elimination comes before Back Substitution).\"\u001b[0m\u001b[0;34m\u001b[0m\u001b[0;34m\u001b[0m\u001b[0m\n",
      "\u001b[0;31mValueError\u001b[0m: All elements below the principal diagonal must be zeros (Forward Elimination comes before Back Substitution)."
     ]
    }
   ],
   "source": [
    "# Back substitution without forward elimination\n",
    "m = randint_matrix(3, 4, range(-9, 10))\n",
    "print(m)\n",
    "m.back_substitute()"
   ]
  }
 ],
 "metadata": {
  "kernelspec": {
   "display_name": "Python 3",
   "language": "python",
   "name": "python3"
  },
  "language_info": {
   "codemirror_mode": {
    "name": "ipython",
    "version": 3
   },
   "file_extension": ".py",
   "mimetype": "text/x-python",
   "name": "python",
   "nbconvert_exporter": "python",
   "pygments_lexer": "ipython3",
   "version": "3.8.6"
  }
 },
 "nbformat": 4,
 "nbformat_minor": 5
}
