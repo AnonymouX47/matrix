{
 "cells": [
  {
   "cell_type": "markdown",
   "id": "arranged-congress",
   "metadata": {},
   "source": [
    "# Matrix views"
   ]
  },
  {
   "cell_type": "code",
   "execution_count": 1,
   "id": "demonstrated-student",
   "metadata": {},
   "outputs": [],
   "source": [
    "from matrix import *"
   ]
  },
  {
   "cell_type": "markdown",
   "id": "neutral-knight",
   "metadata": {},
   "source": [
    "## `Row`and `Column` instances."
   ]
  },
  {
   "cell_type": "code",
   "execution_count": 2,
   "id": "celtic-heart",
   "metadata": {},
   "outputs": [
    {
     "name": "stdout",
     "output_type": "stream",
     "text": [
      "――――――――――――――――――――\n",
      "| 1  | -2 | 0 | 9  |\n",
      "――――――――――――――――――――\n",
      "| 9  | 3  | 6 | 7  |\n",
      "――――――――――――――――――――\n",
      "| -1 | 7  | 0 | -7 |\n",
      "――――――――――――――――――――\n",
      "| -7 | -8 | 3 | -7 |\n",
      "――――――――――――――――――――\n"
     ]
    }
   ],
   "source": [
    "m = randint_matrix(4, 4, range(-9, 10))\n",
    "print(m)"
   ]
  },
  {
   "cell_type": "code",
   "execution_count": 3,
   "id": "efficient-milwaukee",
   "metadata": {},
   "outputs": [
    {
     "name": "stdout",
     "output_type": "stream",
     "text": [
      "<class 'matrix.components.rows.Row'>\n"
     ]
    },
    {
     "data": {
      "text/plain": [
       "<Row 1 of <4x4 Matrix at 0x7f64945d8180>>"
      ]
     },
     "execution_count": 3,
     "metadata": {},
     "output_type": "execute_result"
    }
   ],
   "source": [
    "r1 = m.rows[1]\n",
    "print(type(r1))\n",
    "r1"
   ]
  },
  {
   "cell_type": "code",
   "execution_count": 4,
   "id": "infrared-karen",
   "metadata": {},
   "outputs": [
    {
     "name": "stdout",
     "output_type": "stream",
     "text": [
      "<class 'matrix.components.columns.Column'>\n"
     ]
    },
    {
     "data": {
      "text/plain": [
       "<Column 2 of <4x4 Matrix at 0x7f64945d8180>>"
      ]
     },
     "execution_count": 4,
     "metadata": {},
     "output_type": "execute_result"
    }
   ],
   "source": [
    "c2 = m.columns[2]\n",
    "print(type(c2))\n",
    "c2"
   ]
  },
  {
   "cell_type": "markdown",
   "id": "established-consortium",
   "metadata": {},
   "source": [
    "### String Representation"
   ]
  },
  {
   "cell_type": "code",
   "execution_count": 5,
   "id": "precise-throw",
   "metadata": {},
   "outputs": [
    {
     "name": "stdout",
     "output_type": "stream",
     "text": [
      "Row([Element('1'), Element('-2'), Element('0'), Element('9')])\n",
      "Column([Element('-2'), Element('3'), Element('7'), Element('-8')])\n"
     ]
    }
   ],
   "source": [
    "print(r1)\n",
    "print(c2)"
   ]
  },
  {
   "cell_type": "markdown",
   "id": "olympic-absolute",
   "metadata": {},
   "source": [
    "### Subscription"
   ]
  },
  {
   "cell_type": "code",
   "execution_count": 6,
   "id": "large-ireland",
   "metadata": {},
   "outputs": [
    {
     "name": "stdout",
     "output_type": "stream",
     "text": [
      "-2\n",
      "-8\n"
     ]
    }
   ],
   "source": [
    "# Single element indexing\n",
    "print(r1[2])\n",
    "print(c2[4])"
   ]
  },
  {
   "cell_type": "code",
   "execution_count": 7,
   "id": "delayed-skating",
   "metadata": {},
   "outputs": [
    {
     "name": "stdout",
     "output_type": "stream",
     "text": [
      "[Element('-2'), Element('9')]\n",
      "<class 'list'>\n"
     ]
    }
   ],
   "source": [
    "# Slicing\n",
    "print(r1[2::2])\n",
    "print(type(c2[:]))"
   ]
  },
  {
   "cell_type": "code",
   "execution_count": 8,
   "id": "roman-repeat",
   "metadata": {},
   "outputs": [
    {
     "name": "stdout",
     "output_type": "stream",
     "text": [
      "――――――――――――――――――――\n",
      "| 1  | -2 | 0 | 9  |\n",
      "――――――――――――――――――――\n",
      "| 9  | 3  | 6 | 7  |\n",
      "――――――――――――――――――――\n",
      "| -1 | 7  | 0 | -7 |\n",
      "――――――――――――――――――――\n",
      "| -7 | -8 | 3 | -7 |\n",
      "――――――――――――――――――――\n",
      "――――――――――――――――――――――――――\n",
      "| 1  |  100  | 3478 | 9  |\n",
      "――――――――――――――――――――――――――\n",
      "| 9  |   3   |  6   | 7  |\n",
      "――――――――――――――――――――――――――\n",
      "| -1 | -1474 |  0   | -7 |\n",
      "――――――――――――――――――――――――――\n",
      "| -7 |  -8   |  3   | -7 |\n",
      "――――――――――――――――――――――――――\n"
     ]
    }
   ],
   "source": [
    "# Element assignment\n",
    "print(m)\n",
    "r1[3] = 3478  # Single element\n",
    "c2[::2] = (100, -1474)  # Mulitple elements\n",
    "print(m)"
   ]
  },
  {
   "cell_type": "code",
   "execution_count": 9,
   "id": "filled-british",
   "metadata": {},
   "outputs": [
    {
     "name": "stdout",
     "output_type": "stream",
     "text": [
      "―――――――――――――――――――――――――――――\n",
      "| 1  |  100  | 3478 |   9   |\n",
      "―――――――――――――――――――――――――――――\n",
      "| 9  |   3   |  6   |   7   |\n",
      "―――――――――――――――――――――――――――――\n",
      "| -1 | -1474 |  0   |  -7   |\n",
      "―――――――――――――――――――――――――――――\n",
      "| -7 |  -8   |  3   | -7000 |\n",
      "―――――――――――――――――――――――――――――\n"
     ]
    }
   ],
   "source": [
    "m.rows[4][4] *= 1000\n",
    "print(m)"
   ]
  },
  {
   "cell_type": "markdown",
   "id": "rolled-specification",
   "metadata": {},
   "source": [
    "### Equality"
   ]
  },
  {
   "cell_type": "code",
   "execution_count": 10,
   "id": "colored-pakistan",
   "metadata": {},
   "outputs": [
    {
     "name": "stdout",
     "output_type": "stream",
     "text": [
      "False\n",
      "―――――――――――――――――――――――――――――\n",
      "| 1  |  100  | 3478 |   9   |\n",
      "―――――――――――――――――――――――――――――\n",
      "| -7 |  -8   |  3   | -7000 |\n",
      "―――――――――――――――――――――――――――――\n",
      "| -1 | -1474 |  0   |  -7   |\n",
      "―――――――――――――――――――――――――――――\n",
      "| -7 |  -8   |  3   | -7000 |\n",
      "―――――――――――――――――――――――――――――\n",
      "True\n"
     ]
    }
   ],
   "source": [
    "print(r1 == c2)\n",
    "m.rows[2] = m.rows[4]\n",
    "print(m)\n",
    "print(m.rows[2] == m.rows[4])"
   ]
  },
  {
   "cell_type": "markdown",
   "id": "spread-diameter",
   "metadata": {},
   "source": [
    "### Arithmetic Operations"
   ]
  },
  {
   "cell_type": "code",
   "execution_count": 11,
   "id": "hired-creation",
   "metadata": {},
   "outputs": [
    {
     "name": "stdout",
     "output_type": "stream",
     "text": [
      "<class 'list'>\n",
      "[Element('101'), Element('92'), Element('2004'), Element('1')]\n",
      "[Element('2'), Element('200'), Element('6956'), Element('18')]\n",
      "[Element('2'), Element('200'), Element('6956'), Element('18')]\n",
      "[Element('50'), Element('-4'), Element('-737'), Element('-4')]\n",
      "[Element('100'), Element('-800'), Element('-5126572'), Element('-72')]\n",
      "[Element('1'), Element('1'), Element('1'), Element('1')]\n",
      "[Element('-98'), Element('208'), Element('8430'), Element('26')]\n",
      "[Element('0'), Element('100'), Element('6956'), Element('27')]\n"
     ]
    }
   ],
   "source": [
    "print(type(r1 + c2))\n",
    "print(r1 + c2)\n",
    "print(r1 * 2)\n",
    "print(2 * r1)\n",
    "print(c2 / 2)\n",
    "print(r1 @ c2)  # point-wise multiplication\n",
    "print(m.rows[2] / m.rows[4])  # point-wise division\n",
    "# With abitrary iterables\n",
    "print(r1 + (r1 - c2))\n",
    "print(r1 @ range(4))"
   ]
  },
  {
   "cell_type": "code",
   "execution_count": 12,
   "id": "cutting-exhibition",
   "metadata": {},
   "outputs": [
    {
     "name": "stdout",
     "output_type": "stream",
     "text": [
      "―――――――――――――――――――――――――――――\n",
      "| 1  |  100  | 3478 |   9   |\n",
      "―――――――――――――――――――――――――――――\n",
      "| -7 |  -8   |  3   | -7000 |\n",
      "―――――――――――――――――――――――――――――\n",
      "| -1 | -1474 |  0   |  -7   |\n",
      "―――――――――――――――――――――――――――――\n",
      "| -7 |  -8   |  3   | -7000 |\n",
      "―――――――――――――――――――――――――――――\n",
      "―――――――――――――――――――――――――――――\n",
      "| 2  |  200  | 6956 |  18   |\n",
      "―――――――――――――――――――――――――――――\n",
      "| 0  |   0   |  0   |   0   |\n",
      "―――――――――――――――――――――――――――――\n",
      "| -1 | -1474 |  0   |  -7   |\n",
      "―――――――――――――――――――――――――――――\n",
      "| -7 |  -8   |  3   | -7000 |\n",
      "―――――――――――――――――――――――――――――\n"
     ]
    }
   ],
   "source": [
    "# Arithmetic augmented assignments\n",
    "print(m)\n",
    "r1 *= 2\n",
    "m.rows[2] -= m.rows[4]\n",
    "print(m)"
   ]
  },
  {
   "cell_type": "code",
   "execution_count": 13,
   "id": "dense-level",
   "metadata": {},
   "outputs": [
    {
     "name": "stdout",
     "output_type": "stream",
     "text": [
      "<class 'matrix.components.rows.Row'>\n",
      "Original row: Row([Element('2'), Element('200'), Element('6956'), Element('18')])\n",
      "\n",
      "In-place:\n",
      "<class 'matrix.components.rows.Row'>\n",
      "Row([Element('4'), Element('400'), Element('13912'), Element('36')])\n",
      "\n",
      "Not in-place:\n",
      "<class 'list'>\n",
      "Row([Element('4'), Element('400'), Element('13912'), Element('36')])\n"
     ]
    }
   ],
   "source": [
    "# Take note of this subtle difference\n",
    "# Applies to all augmented assignment operations\n",
    "print(type(r1))\n",
    "print(\"Original row:\", m.rows[1])\n",
    "print(\"\\nIn-place:\")\n",
    "r1 *= 2  # Modifies the matrix and the name still references the `Row` instance.\n",
    "print(type(r1))\n",
    "print(m.rows[1])\n",
    "print(\"\\nNot in-place:\")\n",
    "r1 = r1 * 2  # Doesn't modify the matrix, instead assigns a `list` instance to the name 'r1'\n",
    "print(type(r1))\n",
    "print(m.rows[1])"
   ]
  },
  {
   "cell_type": "markdown",
   "id": "important-capitol",
   "metadata": {},
   "source": [
    "### Others"
   ]
  },
  {
   "cell_type": "code",
   "execution_count": 14,
   "id": "correct-insertion",
   "metadata": {},
   "outputs": [],
   "source": [
    "r1 = m.rows[1]"
   ]
  },
  {
   "cell_type": "code",
   "execution_count": 15,
   "id": "appreciated-bench",
   "metadata": {},
   "outputs": [
    {
     "name": "stdout",
     "output_type": "stream",
     "text": [
      "4 4\n"
     ]
    }
   ],
   "source": [
    "# Length\n",
    "print(len(r1), len(c2))"
   ]
  },
  {
   "cell_type": "code",
   "execution_count": 16,
   "id": "precious-psychology",
   "metadata": {},
   "outputs": [
    {
     "name": "stdout",
     "output_type": "stream",
     "text": [
      "False\n",
      "True\n"
     ]
    }
   ],
   "source": [
    "# Membership test\n",
    "print(5 in m.rows[2])\n",
    "print(-1474 in c2)"
   ]
  },
  {
   "cell_type": "code",
   "execution_count": 17,
   "id": "satisfied-mission",
   "metadata": {},
   "outputs": [
    {
     "name": "stdout",
     "output_type": "stream",
     "text": [
      "(Element('4'), Element('400'), Element('13912'), Element('36'))\n",
      "[Element('400'), Element('0'), Element('-1474'), Element('-8')]\n",
      "4 400\n",
      "400 0\n",
      "13912 -1474\n",
      "36 -8\n"
     ]
    }
   ],
   "source": [
    "# Iteration\n",
    "print(tuple(r1))\n",
    "print([*c2])\n",
    "for elem1, elem2 in zip(r1, c2):\n",
    "    print(elem1, elem2)"
   ]
  },
  {
   "cell_type": "code",
   "execution_count": 18,
   "id": "violent-idaho",
   "metadata": {},
   "outputs": [
    {
     "name": "stdout",
     "output_type": "stream",
     "text": [
      "1\n",
      "3\n",
      "0\n"
     ]
    }
   ],
   "source": [
    "# Pivot index\n",
    "m.rows[4][:2] = [0, 0]\n",
    "print(r1.pivot_index())\n",
    "print(m.rows[4].pivot_index())\n",
    "print(m.rows[2].pivot_index())  # Zero row"
   ]
  }
 ],
 "metadata": {
  "kernelspec": {
   "display_name": "Python 3",
   "language": "python",
   "name": "python3"
  },
  "language_info": {
   "codemirror_mode": {
    "name": "ipython",
    "version": 3
   },
   "file_extension": ".py",
   "mimetype": "text/x-python",
   "name": "python",
   "nbconvert_exporter": "python",
   "pygments_lexer": "ipython3",
   "version": "3.8.6"
  }
 },
 "nbformat": 4,
 "nbformat_minor": 5
}
