{
 "cells": [
  {
   "cell_type": "markdown",
   "id": "twenty-softball",
   "metadata": {},
   "source": [
    "# Tests for matrix properties and special matrices"
   ]
  },
  {
   "cell_type": "code",
   "execution_count": 1,
   "id": "competent-watson",
   "metadata": {},
   "outputs": [],
   "source": [
    "from matrix import *"
   ]
  },
  {
   "cell_type": "markdown",
   "id": "mature-resident",
   "metadata": {},
   "source": [
    "### Diagonality"
   ]
  },
  {
   "cell_type": "code",
   "execution_count": 2,
   "id": "entire-brown",
   "metadata": {},
   "outputs": [],
   "source": [
    "m = randint_matrix(4, 4, range(-9, 10))"
   ]
  },
  {
   "cell_type": "code",
   "execution_count": 3,
   "id": "boxed-fantasy",
   "metadata": {},
   "outputs": [
    {
     "data": {
      "text/plain": [
       "False"
      ]
     },
     "execution_count": 3,
     "metadata": {},
     "output_type": "execute_result"
    }
   ],
   "source": [
    "m.is_diagonal()"
   ]
  },
  {
   "cell_type": "code",
   "execution_count": 4,
   "id": "third-beauty",
   "metadata": {},
   "outputs": [
    {
     "name": "stdout",
     "output_type": "stream",
     "text": [
      "+――――――――――――――――――――――――――+\n",
      "| -6 | 0  |   0   |   0    |\n",
      "|――――+――――+―――――――+――――――――|\n",
      "| 0  | -2 |   0   |   0    |\n",
      "|――――+――――+―――――――+――――――――|\n",
      "| 0  | 0  | 20.67 |   0    |\n",
      "|――――+――――+―――――――+――――――――|\n",
      "| 0  | 0  |   0   | -15.06 |\n",
      "+――――――――――――――――――――――――――+\n"
     ]
    }
   ],
   "source": [
    "m.reduce_lower_tri()\n",
    "m.reduce_upper_tri()\n",
    "print(m)"
   ]
  },
  {
   "cell_type": "code",
   "execution_count": 5,
   "id": "wooden-format",
   "metadata": {},
   "outputs": [
    {
     "data": {
      "text/plain": [
       "True"
      ]
     },
     "execution_count": 5,
     "metadata": {},
     "output_type": "execute_result"
    }
   ],
   "source": [
    "m.is_diagonal()"
   ]
  },
  {
   "cell_type": "code",
   "execution_count": 6,
   "id": "statewide-official",
   "metadata": {},
   "outputs": [
    {
     "data": {
      "text/plain": [
       "False"
      ]
     },
     "execution_count": 6,
     "metadata": {},
     "output_type": "execute_result"
    }
   ],
   "source": [
    "# Non-square matrices\n",
    "Matrix(3, 4).is_diagonal()"
   ]
  },
  {
   "cell_type": "markdown",
   "id": "prime-dynamics",
   "metadata": {},
   "source": [
    "### Nullity"
   ]
  },
  {
   "cell_type": "code",
   "execution_count": 7,
   "id": "earlier-webster",
   "metadata": {},
   "outputs": [
    {
     "name": "stdout",
     "output_type": "stream",
     "text": [
      "+―――――――――――――――+\n",
      "| 0 | 0 | 0 | 0 |\n",
      "|―――+―――+―――+―――|\n",
      "| 0 | 0 | 0 | 0 |\n",
      "|―――+―――+―――+―――|\n",
      "| 0 | 0 | 0 | 0 |\n",
      "+―――――――――――――――+\n"
     ]
    },
    {
     "data": {
      "text/plain": [
       "True"
      ]
     },
     "execution_count": 7,
     "metadata": {},
     "output_type": "execute_result"
    }
   ],
   "source": [
    "m = Matrix(3, 4)\n",
    "print(m)\n",
    "m.is_null()"
   ]
  },
  {
   "cell_type": "code",
   "execution_count": 8,
   "id": "recognized-guide",
   "metadata": {},
   "outputs": [
    {
     "data": {
      "text/plain": [
       "False"
      ]
     },
     "execution_count": 8,
     "metadata": {},
     "output_type": "execute_result"
    }
   ],
   "source": [
    "m[1, 1] = 1\n",
    "m.is_null()"
   ]
  },
  {
   "cell_type": "markdown",
   "id": "considerable-computer",
   "metadata": {},
   "source": [
    "### Identity matrix"
   ]
  },
  {
   "cell_type": "code",
   "execution_count": 9,
   "id": "interracial-reputation",
   "metadata": {},
   "outputs": [
    {
     "name": "stdout",
     "output_type": "stream",
     "text": [
      "+―――――――――――+\n",
      "| 1 | 0 | 0 |\n",
      "|―――+―――+―――|\n",
      "| 0 | 1 | 0 |\n",
      "|―――+―――+―――|\n",
      "| 0 | 0 | 1 |\n",
      "+―――――――――――+\n"
     ]
    }
   ],
   "source": [
    "m = unit_matrix(3)\n",
    "print(m)"
   ]
  },
  {
   "cell_type": "code",
   "execution_count": 10,
   "id": "northern-player",
   "metadata": {},
   "outputs": [
    {
     "data": {
      "text/plain": [
       "True"
      ]
     },
     "execution_count": 10,
     "metadata": {},
     "output_type": "execute_result"
    }
   ],
   "source": [
    "m.is_unit()"
   ]
  },
  {
   "cell_type": "markdown",
   "id": "adjacent-bibliography",
   "metadata": {},
   "source": [
    "### Conformability"
   ]
  },
  {
   "cell_type": "code",
   "execution_count": 11,
   "id": "equivalent-murder",
   "metadata": {},
   "outputs": [
    {
     "data": {
      "text/plain": [
       "True"
      ]
     },
     "execution_count": 11,
     "metadata": {},
     "output_type": "execute_result"
    }
   ],
   "source": [
    "Matrix.is_conformable(Matrix(3, 4), Matrix(4, 2))"
   ]
  },
  {
   "cell_type": "code",
   "execution_count": 12,
   "id": "comic-capacity",
   "metadata": {},
   "outputs": [
    {
     "data": {
      "text/plain": [
       "False"
      ]
     },
     "execution_count": 12,
     "metadata": {},
     "output_type": "execute_result"
    }
   ],
   "source": [
    "Matrix.is_conformable(Matrix(3, 3), Matrix(4, 3))"
   ]
  }
 ],
 "metadata": {
  "kernelspec": {
   "display_name": "Python 3",
   "language": "python",
   "name": "python3"
  },
  "language_info": {
   "codemirror_mode": {
    "name": "ipython",
    "version": 3
   },
   "file_extension": ".py",
   "mimetype": "text/x-python",
   "name": "python",
   "nbconvert_exporter": "python",
   "pygments_lexer": "ipython3",
   "version": "3.8.6"
  }
 },
 "nbformat": 4,
 "nbformat_minor": 5
}
